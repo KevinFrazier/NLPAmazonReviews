{
 "cells": [
  {
   "cell_type": "code",
   "execution_count": 1,
   "metadata": {},
   "outputs": [],
   "source": [
    "#get the probabilities"
   ]
  },
  {
   "cell_type": "code",
   "execution_count": 2,
   "metadata": {},
   "outputs": [],
   "source": [
    "import pandas as pd\n",
    "import os\n",
    "import re\n",
    "from nltk.stem.porter import *\n",
    "import math"
   ]
  },
  {
   "cell_type": "code",
   "execution_count": 3,
   "metadata": {},
   "outputs": [],
   "source": [
    "data = pd.read_csv(\"Reviews_7000.csv\")\n",
    "numberOfReviews = 7000"
   ]
  },
  {
   "cell_type": "code",
   "execution_count": 4,
   "metadata": {},
   "outputs": [],
   "source": [
    "def getNgrams(text, n):\n",
    "    if n == 1:\n",
    "        return text\n",
    "    \n",
    "    text.append(\"<end>\")\n",
    "    ngramList = []\n",
    "    for i in range(len(text) - (n-1)):\n",
    "        ngram = text[i:i+n]\n",
    "        ngramList.append(ngram)\n",
    "    \n",
    "    return ngramList"
   ]
  },
  {
   "cell_type": "code",
   "execution_count": 5,
   "metadata": {},
   "outputs": [],
   "source": [
    "unigramDict = {}\n",
    "bigramDict = {}\n",
    "stemmer = PorterStemmer()\n",
    "\n",
    "def getCountsinRow(row):\n",
    "    text = row[\"text\"]\n",
    "    parsedText = re.findall(\"(\\w+)\", text)\n",
    "    \n",
    "    for index in range(len(parsedText)):\n",
    "        parsedText[index] = stemmer.stem(parsedText[index])\n",
    "        parsedText[index] = parsedText[index].lower()\n",
    "        \n",
    "    unigram = getNgrams(parsedText, 1)\n",
    "    bigram = getNgrams(parsedText, 2)\n",
    "    ngrams = (unigram,bigram)\n",
    "    for index in range(len(ngrams)):\n",
    "        for eachWord in ngrams[index]:\n",
    "            \n",
    "            if eachWord != \"br\":\n",
    "                if index == 0:\n",
    "                    #unigram\n",
    "\n",
    "                    if eachWord in unigramDict:\n",
    "                        unigramDict[eachWord] +=1\n",
    "                    else:\n",
    "                        unigramDict[eachWord] =1\n",
    "\n",
    "                if index == 1:\n",
    "                    #bigram\n",
    "                        eachWord = tuple(eachWord)\n",
    "                        if eachWord in bigramDict:\n",
    "                            bigramDict[eachWord] +=1\n",
    "                        else:\n",
    "                            bigramDict[eachWord] =1\n",
    "\n",
    "            "
   ]
  },
  {
   "cell_type": "code",
   "execution_count": 6,
   "metadata": {},
   "outputs": [
    {
     "data": {
      "text/plain": [
       "0       None\n",
       "1       None\n",
       "2       None\n",
       "3       None\n",
       "4       None\n",
       "5       None\n",
       "6       None\n",
       "7       None\n",
       "8       None\n",
       "9       None\n",
       "10      None\n",
       "11      None\n",
       "12      None\n",
       "13      None\n",
       "14      None\n",
       "15      None\n",
       "16      None\n",
       "17      None\n",
       "18      None\n",
       "19      None\n",
       "20      None\n",
       "21      None\n",
       "22      None\n",
       "23      None\n",
       "24      None\n",
       "25      None\n",
       "26      None\n",
       "27      None\n",
       "28      None\n",
       "29      None\n",
       "        ... \n",
       "6970    None\n",
       "6971    None\n",
       "6972    None\n",
       "6973    None\n",
       "6974    None\n",
       "6975    None\n",
       "6976    None\n",
       "6977    None\n",
       "6978    None\n",
       "6979    None\n",
       "6980    None\n",
       "6981    None\n",
       "6982    None\n",
       "6983    None\n",
       "6984    None\n",
       "6985    None\n",
       "6986    None\n",
       "6987    None\n",
       "6988    None\n",
       "6989    None\n",
       "6990    None\n",
       "6991    None\n",
       "6992    None\n",
       "6993    None\n",
       "6994    None\n",
       "6995    None\n",
       "6996    None\n",
       "6997    None\n",
       "6998    None\n",
       "6999    None\n",
       "Length: 7000, dtype: object"
      ]
     },
     "execution_count": 6,
     "metadata": {},
     "output_type": "execute_result"
    }
   ],
   "source": [
    "\n",
    "#get the probabilies into unigramsDict and bigramsDict\n",
    "data.apply(getCountsinRow, axis = 1)"
   ]
  },
  {
   "cell_type": "markdown",
   "metadata": {},
   "source": [
    "# UNIGRAM VECTOR MODEL"
   ]
  },
  {
   "cell_type": "code",
   "execution_count": 7,
   "metadata": {},
   "outputs": [
    {
     "data": {
      "text/plain": [
       "0       None\n",
       "1       None\n",
       "2       None\n",
       "3       None\n",
       "4       None\n",
       "5       None\n",
       "6       None\n",
       "7       None\n",
       "8       None\n",
       "9       None\n",
       "10      None\n",
       "11      None\n",
       "12      None\n",
       "13      None\n",
       "14      None\n",
       "15      None\n",
       "16      None\n",
       "17      None\n",
       "18      None\n",
       "19      None\n",
       "20      None\n",
       "21      None\n",
       "22      None\n",
       "23      None\n",
       "24      None\n",
       "25      None\n",
       "26      None\n",
       "27      None\n",
       "28      None\n",
       "29      None\n",
       "        ... \n",
       "6970    None\n",
       "6971    None\n",
       "6972    None\n",
       "6973    None\n",
       "6974    None\n",
       "6975    None\n",
       "6976    None\n",
       "6977    None\n",
       "6978    None\n",
       "6979    None\n",
       "6980    None\n",
       "6981    None\n",
       "6982    None\n",
       "6983    None\n",
       "6984    None\n",
       "6985    None\n",
       "6986    None\n",
       "6987    None\n",
       "6988    None\n",
       "6989    None\n",
       "6990    None\n",
       "6991    None\n",
       "6992    None\n",
       "6993    None\n",
       "6994    None\n",
       "6995    None\n",
       "6996    None\n",
       "6997    None\n",
       "6998    None\n",
       "6999    None\n",
       "Length: 7000, dtype: object"
      ]
     },
     "execution_count": 7,
     "metadata": {},
     "output_type": "execute_result"
    }
   ],
   "source": [
    "#get the vector model in data\n",
    "unigramVM = []\n",
    "def getUnigramReviewVectors(row):\n",
    "    \n",
    "    #we have data,unigrams,bigrams\n",
    "    rowVector = {}\n",
    "    text = row[\"text\"]\n",
    "    score = row[\"score\"]\n",
    "    parsedText = re.findall(\"(\\w+)\", text)\n",
    "    for index in range(len(parsedText)):\n",
    "        parsedText[index] = stemmer.stem(parsedText[index])\n",
    "        parsedText[index] = parsedText[index].lower()\n",
    "        if parsedText[index] != \"br\":\n",
    "            if parsedText[index] in rowVector:\n",
    "                rowVector[parsedText[index]] +=1\n",
    "            else:\n",
    "                rowVector[parsedText[index]] = 1\n",
    "\n",
    "    if score >= 4:\n",
    "        rowVector[\"<label>\"] = \"good\"\n",
    "    elif score < 3:\n",
    "        rowVector[\"<label>\"] = \"bad\"\n",
    "        \n",
    "    unigramVM.append(rowVector)\n",
    "    \n",
    "\n",
    "data.apply(getUnigramReviewVectors, axis = 1)"
   ]
  },
  {
   "cell_type": "code",
   "execution_count": 8,
   "metadata": {},
   "outputs": [],
   "source": [
    "DF_to_unigramVM = pd.DataFrame(unigramVM)"
   ]
  },
  {
   "cell_type": "markdown",
   "metadata": {},
   "source": [
    "# GET TFIDF UNIGRAM MODEL"
   ]
  },
  {
   "cell_type": "code",
   "execution_count": 9,
   "metadata": {},
   "outputs": [],
   "source": [
    "#make inverted index\n",
    "invertedIndex = {}\n",
    "'''\n",
    "invertedIndex\n",
    "the => {index : 1}\n",
    "'''\n",
    "\n",
    "def makeInvertedIndex(row):\n",
    "    #get the bigrams\n",
    "    #for each bigram -> add a count to the inverted index\n",
    "    #do not double count\n",
    "    \n",
    "    #get bigrams\n",
    "    text = row[\"text\"]\n",
    "    parsedText = re.findall(\"(\\w+)\", text)\n",
    "    \n",
    "    for index in range(len(parsedText)):\n",
    "        \n",
    "        parsedText[index] = stemmer.stem(parsedText[index])\n",
    "        parsedText[index] = parsedText[index].lower()\n",
    "        eachWord = parsedText[index]\n",
    "    \n",
    "        if eachWord not in invertedIndex:\n",
    "            invertedIndex[eachWord] = [1, {}]\n",
    "\n",
    "        if row.name not in invertedIndex[eachWord]:\n",
    "            invertedIndex[eachWord][0] += 1\n",
    "            invertedIndex[eachWord][1][row.name] = 1"
   ]
  },
  {
   "cell_type": "code",
   "execution_count": 10,
   "metadata": {},
   "outputs": [
    {
     "data": {
      "text/plain": [
       "0       None\n",
       "1       None\n",
       "2       None\n",
       "3       None\n",
       "4       None\n",
       "5       None\n",
       "6       None\n",
       "7       None\n",
       "8       None\n",
       "9       None\n",
       "10      None\n",
       "11      None\n",
       "12      None\n",
       "13      None\n",
       "14      None\n",
       "15      None\n",
       "16      None\n",
       "17      None\n",
       "18      None\n",
       "19      None\n",
       "20      None\n",
       "21      None\n",
       "22      None\n",
       "23      None\n",
       "24      None\n",
       "25      None\n",
       "26      None\n",
       "27      None\n",
       "28      None\n",
       "29      None\n",
       "        ... \n",
       "6970    None\n",
       "6971    None\n",
       "6972    None\n",
       "6973    None\n",
       "6974    None\n",
       "6975    None\n",
       "6976    None\n",
       "6977    None\n",
       "6978    None\n",
       "6979    None\n",
       "6980    None\n",
       "6981    None\n",
       "6982    None\n",
       "6983    None\n",
       "6984    None\n",
       "6985    None\n",
       "6986    None\n",
       "6987    None\n",
       "6988    None\n",
       "6989    None\n",
       "6990    None\n",
       "6991    None\n",
       "6992    None\n",
       "6993    None\n",
       "6994    None\n",
       "6995    None\n",
       "6996    None\n",
       "6997    None\n",
       "6998    None\n",
       "6999    None\n",
       "Length: 7000, dtype: object"
      ]
     },
     "execution_count": 10,
     "metadata": {},
     "output_type": "execute_result"
    }
   ],
   "source": [
    "data.apply(makeInvertedIndex, axis = 1)"
   ]
  },
  {
   "cell_type": "code",
   "execution_count": 11,
   "metadata": {},
   "outputs": [],
   "source": [
    "TFIDFVM = []\n",
    "def getTFIDFReviewVectors(row):\n",
    "    \n",
    "    #we have data,unigrams,bigrams\n",
    "    rowVector = {}\n",
    "    text = row[\"text\"]\n",
    "    score = row[\"score\"]\n",
    "    parsedText = re.findall(\"(\\w+)\", text)\n",
    "    \n",
    "    for index in range(len(parsedText)):\n",
    "        parsedText[index] = stemmer.stem(parsedText[index])\n",
    "        parsedText[index] = parsedText[index].lower()\n",
    "        \n",
    "        if parsedText[index] != \"br\":\n",
    "            if parsedText[index] in rowVector:\n",
    "                rowVector[parsedText[index]] +=1\n",
    "            else:\n",
    "                rowVector[parsedText[index]] = 1\n",
    "\n",
    "    #get individual counts\n",
    "    for eachWord in rowVector:\n",
    "        \n",
    "        TF = rowVector[eachWord]/unigramDict[eachWord]\n",
    "        \n",
    "        term = len(invertedIndex[eachWord][1])\n",
    "        \n",
    "        \n",
    "        if term == 0:\n",
    "            term = 1\n",
    "            \n",
    "        IDF = math.log2(numberOfReviews/term)\n",
    "            \n",
    "        if IDF < 0:\n",
    "            print(eachWord)\n",
    "            \n",
    "        rowVector[eachWord] = TF*IDF\n",
    "            \n",
    "        \n",
    "    if score >= 4:\n",
    "        rowVector[\"<label>\"] = \"good\"\n",
    "    elif score < 3:\n",
    "        rowVector[\"<label>\"] = \"bad\"\n",
    "        \n",
    "    TFIDFVM.append(rowVector)"
   ]
  },
  {
   "cell_type": "code",
   "execution_count": 12,
   "metadata": {},
   "outputs": [
    {
     "data": {
      "text/plain": [
       "0       None\n",
       "1       None\n",
       "2       None\n",
       "3       None\n",
       "4       None\n",
       "5       None\n",
       "6       None\n",
       "7       None\n",
       "8       None\n",
       "9       None\n",
       "10      None\n",
       "11      None\n",
       "12      None\n",
       "13      None\n",
       "14      None\n",
       "15      None\n",
       "16      None\n",
       "17      None\n",
       "18      None\n",
       "19      None\n",
       "20      None\n",
       "21      None\n",
       "22      None\n",
       "23      None\n",
       "24      None\n",
       "25      None\n",
       "26      None\n",
       "27      None\n",
       "28      None\n",
       "29      None\n",
       "        ... \n",
       "6970    None\n",
       "6971    None\n",
       "6972    None\n",
       "6973    None\n",
       "6974    None\n",
       "6975    None\n",
       "6976    None\n",
       "6977    None\n",
       "6978    None\n",
       "6979    None\n",
       "6980    None\n",
       "6981    None\n",
       "6982    None\n",
       "6983    None\n",
       "6984    None\n",
       "6985    None\n",
       "6986    None\n",
       "6987    None\n",
       "6988    None\n",
       "6989    None\n",
       "6990    None\n",
       "6991    None\n",
       "6992    None\n",
       "6993    None\n",
       "6994    None\n",
       "6995    None\n",
       "6996    None\n",
       "6997    None\n",
       "6998    None\n",
       "6999    None\n",
       "Length: 7000, dtype: object"
      ]
     },
     "execution_count": 12,
     "metadata": {},
     "output_type": "execute_result"
    }
   ],
   "source": [
    "data.apply(getTFIDFReviewVectors, axis = 1)"
   ]
  },
  {
   "cell_type": "code",
   "execution_count": 13,
   "metadata": {},
   "outputs": [],
   "source": [
    "DF_for_TFIDFVM = pd.DataFrame(TFIDFVM)"
   ]
  },
  {
   "cell_type": "markdown",
   "metadata": {},
   "source": [
    "# Bigram Vector Model"
   ]
  },
  {
   "cell_type": "code",
   "execution_count": 14,
   "metadata": {},
   "outputs": [
    {
     "data": {
      "text/plain": [
       "0       None\n",
       "1       None\n",
       "2       None\n",
       "3       None\n",
       "4       None\n",
       "5       None\n",
       "6       None\n",
       "7       None\n",
       "8       None\n",
       "9       None\n",
       "10      None\n",
       "11      None\n",
       "12      None\n",
       "13      None\n",
       "14      None\n",
       "15      None\n",
       "16      None\n",
       "17      None\n",
       "18      None\n",
       "19      None\n",
       "20      None\n",
       "21      None\n",
       "22      None\n",
       "23      None\n",
       "24      None\n",
       "25      None\n",
       "26      None\n",
       "27      None\n",
       "28      None\n",
       "29      None\n",
       "        ... \n",
       "6970    None\n",
       "6971    None\n",
       "6972    None\n",
       "6973    None\n",
       "6974    None\n",
       "6975    None\n",
       "6976    None\n",
       "6977    None\n",
       "6978    None\n",
       "6979    None\n",
       "6980    None\n",
       "6981    None\n",
       "6982    None\n",
       "6983    None\n",
       "6984    None\n",
       "6985    None\n",
       "6986    None\n",
       "6987    None\n",
       "6988    None\n",
       "6989    None\n",
       "6990    None\n",
       "6991    None\n",
       "6992    None\n",
       "6993    None\n",
       "6994    None\n",
       "6995    None\n",
       "6996    None\n",
       "6997    None\n",
       "6998    None\n",
       "6999    None\n",
       "Length: 7000, dtype: object"
      ]
     },
     "execution_count": 14,
     "metadata": {},
     "output_type": "execute_result"
    }
   ],
   "source": [
    "bigramVM = []\n",
    "def getBigramVM(row):\n",
    "    text = row[\"text\"]\n",
    "    score = row[\"score\"]\n",
    "    rowVector = {}\n",
    "    \n",
    "    parsedText = re.findall(\"(\\w+)\", text)\n",
    "    for index in range(len(parsedText)):\n",
    "        parsedText[index] = stemmer.stem(parsedText[index])\n",
    "        parsedText[index] = parsedText[index].lower()\n",
    "        \n",
    "    bigrams = getNgrams(parsedText, 2)\n",
    "    \n",
    "    for eachgram in bigrams:\n",
    "        eachgram = tuple(eachgram)\n",
    "        if eachgram in rowVector:\n",
    "            rowVector[eachgram] +=1\n",
    "        else:\n",
    "            rowVector[eachgram] = 1\n",
    "    \n",
    "    \n",
    "    if score >= 4:\n",
    "        rowVector[\"<label>\"] = \"good\"\n",
    "    else:\n",
    "        rowVector[\"<label>\"] = \"bad\"\n",
    "        \n",
    "    bigramVM.append(rowVector)\n",
    "data.apply(getBigramVM, axis = 1)            "
   ]
  },
  {
   "cell_type": "code",
   "execution_count": 15,
   "metadata": {},
   "outputs": [],
   "source": [
    "DF_for_BVM = pd.DataFrame(bigramVM)"
   ]
  },
  {
   "cell_type": "markdown",
   "metadata": {},
   "source": [
    "# Bigram TFIDF Vector Model"
   ]
  },
  {
   "cell_type": "code",
   "execution_count": 16,
   "metadata": {},
   "outputs": [
    {
     "data": {
      "text/plain": [
       "0       None\n",
       "1       None\n",
       "2       None\n",
       "3       None\n",
       "4       None\n",
       "5       None\n",
       "6       None\n",
       "7       None\n",
       "8       None\n",
       "9       None\n",
       "10      None\n",
       "11      None\n",
       "12      None\n",
       "13      None\n",
       "14      None\n",
       "15      None\n",
       "16      None\n",
       "17      None\n",
       "18      None\n",
       "19      None\n",
       "20      None\n",
       "21      None\n",
       "22      None\n",
       "23      None\n",
       "24      None\n",
       "25      None\n",
       "26      None\n",
       "27      None\n",
       "28      None\n",
       "29      None\n",
       "        ... \n",
       "6970    None\n",
       "6971    None\n",
       "6972    None\n",
       "6973    None\n",
       "6974    None\n",
       "6975    None\n",
       "6976    None\n",
       "6977    None\n",
       "6978    None\n",
       "6979    None\n",
       "6980    None\n",
       "6981    None\n",
       "6982    None\n",
       "6983    None\n",
       "6984    None\n",
       "6985    None\n",
       "6986    None\n",
       "6987    None\n",
       "6988    None\n",
       "6989    None\n",
       "6990    None\n",
       "6991    None\n",
       "6992    None\n",
       "6993    None\n",
       "6994    None\n",
       "6995    None\n",
       "6996    None\n",
       "6997    None\n",
       "6998    None\n",
       "6999    None\n",
       "Length: 7000, dtype: object"
      ]
     },
     "execution_count": 16,
     "metadata": {},
     "output_type": "execute_result"
    }
   ],
   "source": [
    "#we have fast ways to build the term frequencies, now we need a fast way to get the TFIDF\n",
    "invertedIndex = {}\n",
    "'''\n",
    "invertedIndex\n",
    "the => {index : 1}\n",
    "'''\n",
    "\n",
    "def makeInvertedIndex(row):\n",
    "    #get the bigrams\n",
    "    #for each bigram -> add a count to the inverted index\n",
    "    #do not double count\n",
    "    \n",
    "    #get bigrams\n",
    "    text = row[\"text\"]\n",
    "    parsedText = re.findall(\"(\\w+)\", text)\n",
    "    \n",
    "    for index in range(len(parsedText)):\n",
    "        \n",
    "        parsedText[index] = stemmer.stem(parsedText[index])\n",
    "        parsedText[index] = parsedText[index].lower()\n",
    "     \n",
    "    bigrams = getNgrams(parsedText, 2)\n",
    "    \n",
    "    #put into invertedIndex\n",
    "    for eachBigram in bigrams:\n",
    "        eachBigram = tuple(eachBigram)\n",
    "        if eachBigram not in invertedIndex:\n",
    "            invertedIndex[eachBigram] = [1, {}]\n",
    "\n",
    "        if row.name not in invertedIndex[eachBigram]:\n",
    "            invertedIndex[eachBigram][0] += 1\n",
    "            invertedIndex[eachBigram][1][row.name] = 1\n",
    "            \n",
    "BigramTFIDFVM = []\n",
    "def getBigramTFIDFModel(row):\n",
    "    \n",
    "    #get bigrams\n",
    "    rowVector = {}\n",
    "    text = row[\"text\"]\n",
    "    score = row[\"score\"]\n",
    "    parsedText = re.findall(\"(\\w+)\", text)\n",
    "    \n",
    "    for index in range(len(parsedText)):\n",
    "        \n",
    "        parsedText[index] = stemmer.stem(parsedText[index])\n",
    "        parsedText[index] = parsedText[index].lower()\n",
    "     \n",
    "    bigrams = getNgrams(parsedText, 2)\n",
    "    \n",
    "    #record counts\n",
    "    for eachGram in bigrams:\n",
    "        eachGram = tuple(eachGram)\n",
    "        if eachGram not in rowVector:\n",
    "            rowVector[eachGram] = 1\n",
    "        else:\n",
    "            rowVector[eachGram] +=1\n",
    "            \n",
    "    #get TF*IDF\n",
    "    for eachKey in rowVector:\n",
    "        count = rowVector[eachKey]\n",
    "        TF = bigramDict[eachKey] * count\n",
    "        \n",
    "        term = len(invertedIndex[eachKey][1])\n",
    "        \n",
    "        if term == 0:\n",
    "            term = 1\n",
    "        \n",
    "        IDF = math.log2(6400/term)\n",
    "        \n",
    "        rowVector[eachKey] = TF*IDF\n",
    "               \n",
    "    if score >= 4:\n",
    "        rowVector[\"<label>\"] = \"good\"\n",
    "    else:\n",
    "        rowVector[\"<label>\"] = \"bad\"\n",
    "        \n",
    "        \n",
    "    BigramTFIDFVM.append(rowVector)\n",
    "        \n",
    "data.apply(makeInvertedIndex, axis = 1)\n",
    "data.apply(getBigramTFIDFModel, axis = 1)"
   ]
  },
  {
   "cell_type": "code",
   "execution_count": 17,
   "metadata": {},
   "outputs": [],
   "source": [
    "DF_for_BTFIDFVM = pd.DataFrame(BigramTFIDFVM)"
   ]
  },
  {
   "cell_type": "markdown",
   "metadata": {},
   "source": [
    "# Logistic Regression"
   ]
  },
  {
   "cell_type": "markdown",
   "metadata": {},
   "source": [
    "## Unigram"
   ]
  },
  {
   "cell_type": "code",
   "execution_count": 18,
   "metadata": {},
   "outputs": [],
   "source": [
    "import pandas as pd\n",
    "from matplotlib import pyplot as plt\n",
    "import sklearn.datasets\n",
    "import numpy as np\n",
    "from sklearn.metrics import accuracy_score as Accuracy\n",
    "from matplotlib import pyplot as plt\n",
    "import sklearn\n",
    "from sklearn.model_selection import train_test_split\n",
    "from sklearn.linear_model import LogisticRegression\n",
    "\n",
    "from sklearn.naive_bayes import MultinomialNB\n",
    "from sklearn.metrics import confusion_matrix, classification_report\n",
    "from sklearn.model_selection import KFold"
   ]
  },
  {
   "cell_type": "code",
   "execution_count": 19,
   "metadata": {},
   "outputs": [],
   "source": [
    "datadf = DF_to_unigramVM\n",
    "datadf = datadf.fillna(0)\n",
    "X, Y = datadf.drop(columns = \"<label>\").values, datadf[\"<label>\"].values"
   ]
  },
  {
   "cell_type": "code",
   "execution_count": 20,
   "metadata": {},
   "outputs": [],
   "source": [
    "#niave training with count vectors\n",
    "acc = []\n",
    "kf = KFold(n_splits = 10)\n",
    "for trainIndex, testIndex in kf.split(X):\n",
    "    trainX, testX, trainY, testY = X[trainIndex], X[testIndex], Y[trainIndex], Y[testIndex]\n",
    "    nb = LogisticRegression(solver='liblinear')\n",
    "    nb.fit(trainX, trainY)\n",
    "    predictions = nb.predict(testX)\n",
    "    acc.append(Accuracy(testY, predictions))"
   ]
  },
  {
   "cell_type": "code",
   "execution_count": 21,
   "metadata": {
    "scrolled": true
   },
   "outputs": [
    {
     "name": "stdout",
     "output_type": "stream",
     "text": [
      "Average accuracy of predictions 0.8469999999999999\n"
     ]
    },
    {
     "data": {
      "image/png": "[encoded data removed]",
      "text/plain": [
       "<Figure size 432x288 with 1 Axes>"
      ]
     },
     "metadata": {
      "needs_background": "light"
     },
     "output_type": "display_data"
    }
   ],
   "source": [
    "print(\"Average accuracy of predictions \" + str(np.mean(acc)))\n",
    "plt.ylabel('accuracy')\n",
    "plt.xlabel('iteration')\n",
    "plt.plot(acc, 'b--')\n",
    "plt.show()"
   ]
  },
  {
   "cell_type": "code",
   "execution_count": 22,
   "metadata": {},
   "outputs": [
    {
     "data": {
      "text/plain": [
       "array([289,  55,  45, 311])"
      ]
     },
     "execution_count": 22,
     "metadata": {},
     "output_type": "execute_result"
    }
   ],
   "source": [
    "confusion_matrix(testY, predictions).ravel()\n"
   ]
  },
  {
   "cell_type": "code",
   "execution_count": 23,
   "metadata": {},
   "outputs": [
    {
     "name": "stdout",
     "output_type": "stream",
     "text": [
      "              precision    recall  f1-score   support\n",
      "\n",
      "         bad       0.87      0.84      0.85       344\n",
      "        good       0.85      0.87      0.86       356\n",
      "\n",
      "   micro avg       0.86      0.86      0.86       700\n",
      "   macro avg       0.86      0.86      0.86       700\n",
      "weighted avg       0.86      0.86      0.86       700\n",
      "\n"
     ]
    }
   ],
   "source": [
    "print(classification_report(testY, predictions))"
   ]
  },
  {
   "cell_type": "markdown",
   "metadata": {},
   "source": [
    "## UnigramTFIDF"
   ]
  },
  {
   "cell_type": "code",
   "execution_count": 24,
   "metadata": {},
   "outputs": [],
   "source": [
    "datadf = DF_for_TFIDFVM\n",
    "datadf = datadf.fillna(0)\n",
    "X, Y = datadf.drop(columns = \"<label>\").values, datadf[\"<label>\"].values"
   ]
  },
  {
   "cell_type": "code",
   "execution_count": 25,
   "metadata": {},
   "outputs": [],
   "source": [
    "#logistic training with tf-idf vectors\n",
    "acc = []\n",
    "kf = KFold(n_splits = 10)\n",
    "for trainIndex, testIndex in kf.split(X):\n",
    "    trainX, testX, trainY, testY = X[trainIndex], X[testIndex], Y[trainIndex], Y[testIndex]\n",
    "    nb = LogisticRegression(solver='liblinear')\n",
    "    nb.fit(trainX, trainY)\n",
    "    predictions = nb.predict(testX)\n",
    "    acc.append(Accuracy(testY, predictions))"
   ]
  },
  {
   "cell_type": "code",
   "execution_count": 26,
   "metadata": {},
   "outputs": [
    {
     "name": "stdout",
     "output_type": "stream",
     "text": [
      "Average accuracy of predictions 0.6778571428571429\n"
     ]
    },
    {
     "data": {
      "image/png": "[encoded data removed]",
      "text/plain": [
       "<Figure size 432x288 with 1 Axes>"
      ]
     },
     "metadata": {
      "needs_background": "light"
     },
     "output_type": "display_data"
    }
   ],
   "source": [
    "print(\"Average accuracy of predictions \" + str(np.mean(acc)))\n",
    "plt.ylabel('accuracy')\n",
    "plt.xlabel('iteration')\n",
    "plt.plot(acc, 'b--')\n",
    "plt.show()"
   ]
  },
  {
   "cell_type": "code",
   "execution_count": 27,
   "metadata": {},
   "outputs": [
    {
     "name": "stdout",
     "output_type": "stream",
     "text": [
      "[[199 145]\n",
      " [ 68 288]]\n"
     ]
    }
   ],
   "source": [
    "print(confusion_matrix(testY, predictions))"
   ]
  },
  {
   "cell_type": "code",
   "execution_count": 28,
   "metadata": {},
   "outputs": [
    {
     "name": "stdout",
     "output_type": "stream",
     "text": [
      "              precision    recall  f1-score   support\n",
      "\n",
      "         bad       0.75      0.58      0.65       344\n",
      "        good       0.67      0.81      0.73       356\n",
      "\n",
      "   micro avg       0.70      0.70      0.70       700\n",
      "   macro avg       0.71      0.69      0.69       700\n",
      "weighted avg       0.70      0.70      0.69       700\n",
      "\n"
     ]
    }
   ],
   "source": [
    "print(classification_report(testY, predictions))"
   ]
  },
  {
   "cell_type": "markdown",
   "metadata": {},
   "source": [
    "## Bigram VM"
   ]
  },
  {
   "cell_type": "code",
   "execution_count": 29,
   "metadata": {},
   "outputs": [],
   "source": [
    "datadf = DF_for_BVM\n",
    "datadf = datadf.fillna(0)\n",
    "X, Y = datadf.drop(columns = \"<label>\").values, datadf[\"<label>\"].values"
   ]
  },
  {
   "cell_type": "code",
   "execution_count": 30,
   "metadata": {},
   "outputs": [],
   "source": [
    "#logistic training with tf-idf vectors\n",
    "acc = []\n",
    "kf = KFold(n_splits = 10)\n",
    "for trainIndex, testIndex in kf.split(X):\n",
    "    trainX, testX, trainY, testY = X[trainIndex], X[testIndex], Y[trainIndex], Y[testIndex]\n",
    "    nb = LogisticRegression(solver='liblinear')\n",
    "    nb.fit(trainX, trainY)\n",
    "    predictions = nb.predict(testX)\n",
    "    acc.append(Accuracy(testY, predictions))"
   ]
  },
  {
   "cell_type": "code",
   "execution_count": 31,
   "metadata": {},
   "outputs": [
    {
     "name": "stdout",
     "output_type": "stream",
     "text": [
      "Average accuracy of predictions 0.8602857142857143\n"
     ]
    },
    {
     "data": {
      "image/png": "[encoded data removed]",
      "text/plain": [
       "<Figure size 432x288 with 1 Axes>"
      ]
     },
     "metadata": {
      "needs_background": "light"
     },
     "output_type": "display_data"
    }
   ],
   "source": [
    "print(\"Average accuracy of predictions \" + str(np.mean(acc)))\n",
    "plt.ylabel('accuracy')\n",
    "plt.xlabel('iteration')\n",
    "plt.plot(acc, 'b--')\n",
    "plt.show()"
   ]
  },
  {
   "cell_type": "code",
   "execution_count": 32,
   "metadata": {},
   "outputs": [
    {
     "name": "stdout",
     "output_type": "stream",
     "text": [
      "[[301  43]\n",
      " [ 44 312]]\n"
     ]
    }
   ],
   "source": [
    "print(confusion_matrix(testY, predictions))"
   ]
  },
  {
   "cell_type": "code",
   "execution_count": 33,
   "metadata": {},
   "outputs": [
    {
     "name": "stdout",
     "output_type": "stream",
     "text": [
      "              precision    recall  f1-score   support\n",
      "\n",
      "         bad       0.87      0.88      0.87       344\n",
      "        good       0.88      0.88      0.88       356\n",
      "\n",
      "   micro avg       0.88      0.88      0.88       700\n",
      "   macro avg       0.88      0.88      0.88       700\n",
      "weighted avg       0.88      0.88      0.88       700\n",
      "\n"
     ]
    }
   ],
   "source": [
    "print(classification_report(testY, predictions))"
   ]
  },
  {
   "cell_type": "markdown",
   "metadata": {},
   "source": [
    "## Bigram TFIDF VM"
   ]
  },
  {
   "cell_type": "code",
   "execution_count": 34,
   "metadata": {},
   "outputs": [],
   "source": [
    "datadf = DF_for_BTFIDFVM\n",
    "datadf = datadf.fillna(0)\n",
    "X, Y = datadf.drop(columns = \"<label>\").values, datadf[\"<label>\"].values"
   ]
  },
  {
   "cell_type": "code",
   "execution_count": 37,
   "metadata": {},
   "outputs": [
    {
     "name": "stdout",
     "output_type": "stream",
     "text": [
      "Average accuracy of predictions 0.807\n"
     ]
    },
    {
     "data": {
      "image/png": "[encoded data removed]",
      "text/plain": [
       "<Figure size 432x288 with 1 Axes>"
      ]
     },
     "metadata": {
      "needs_background": "light"
     },
     "output_type": "display_data"
    },
    {
     "name": "stdout",
     "output_type": "stream",
     "text": [
      "[[282  62]\n",
      " [ 62 294]]\n",
      "              precision    recall  f1-score   support\n",
      "\n",
      "         bad       0.82      0.82      0.82       344\n",
      "        good       0.83      0.83      0.83       356\n",
      "\n",
      "   micro avg       0.82      0.82      0.82       700\n",
      "   macro avg       0.82      0.82      0.82       700\n",
      "weighted avg       0.82      0.82      0.82       700\n",
      "\n"
     ]
    }
   ],
   "source": [
    "#logistic training with tf-idf vectors\n",
    "acc = []\n",
    "kf = KFold(n_splits = 10)\n",
    "for trainIndex, testIndex in kf.split(X):\n",
    "    trainX, testX, trainY, testY = X[trainIndex], X[testIndex], Y[trainIndex], Y[testIndex]\n",
    "    nb = LogisticRegression(solver = \"liblinear\")\n",
    "    nb.fit(trainX, trainY)\n",
    "    predictions = nb.predict(testX)\n",
    "    acc.append(Accuracy(testY, predictions))\n",
    "print(\"Average accuracy of predictions \" + str(np.mean(acc)))\n",
    "plt.ylabel('accuracy')\n",
    "plt.xlabel('iteration')\n",
    "plt.plot(acc, 'b--')\n",
    "plt.show()\n",
    "print(confusion_matrix(testY, predictions))\n",
    "print(classification_report(testY, predictions))"
   ]
  },
  {
   "cell_type": "markdown",
   "metadata": {},
   "source": [
    "# Random Forest"
   ]
  },
  {
   "cell_type": "markdown",
   "metadata": {},
   "source": [
    "## Unigram"
   ]
  },
  {
   "cell_type": "code",
   "execution_count": 38,
   "metadata": {},
   "outputs": [],
   "source": [
    "import pandas as pd\n",
    "from matplotlib import pyplot as plt\n",
    "import sklearn.datasets\n",
    "import numpy as np\n",
    "from sklearn.metrics import accuracy_score as Accuracy\n",
    "from matplotlib import pyplot as plt\n",
    "import sklearn\n",
    "from sklearn.model_selection import train_test_split\n",
    "\n",
    "from sklearn.ensemble import RandomForestClassifier\n",
    "from sklearn.metrics import confusion_matrix, classification_report\n",
    "from sklearn.model_selection import KFold"
   ]
  },
  {
   "cell_type": "code",
   "execution_count": 39,
   "metadata": {},
   "outputs": [],
   "source": [
    "datadf = DF_to_unigramVM\n",
    "datadf = datadf.fillna(0)\n",
    "X, Y = datadf.drop(columns = \"<label>\").values, datadf[\"<label>\"].values"
   ]
  },
  {
   "cell_type": "code",
   "execution_count": 40,
   "metadata": {},
   "outputs": [],
   "source": [
    "#random forest training with count vectors\n",
    "acc = []\n",
    "kf = KFold(n_splits = 10)\n",
    "for trainIndex, testIndex in kf.split(X):\n",
    "    trainX, testX, trainY, testY = X[trainIndex], X[testIndex], Y[trainIndex], Y[testIndex]\n",
    "    rfc = RandomForestClassifier(n_estimators = 10)\n",
    "    rfc.fit(trainX, trainY)\n",
    "    predictions = rfc.predict(testX)\n",
    "    acc.append(Accuracy(testY, predictions))"
   ]
  },
  {
   "cell_type": "code",
   "execution_count": 41,
   "metadata": {},
   "outputs": [
    {
     "name": "stdout",
     "output_type": "stream",
     "text": [
      "Average accuracy of predictions 0.7507142857142857\n"
     ]
    },
    {
     "data": {
      "image/png": "[encoded data removed]",
      "text/plain": [
       "<Figure size 432x288 with 1 Axes>"
      ]
     },
     "metadata": {
      "needs_background": "light"
     },
     "output_type": "display_data"
    }
   ],
   "source": [
    "print(\"Average accuracy of predictions \" + str(np.mean(acc)))\n",
    "plt.ylabel('accuracy')\n",
    "plt.xlabel('iteration')\n",
    "plt.plot(acc, 'b--')\n",
    "plt.show()"
   ]
  },
  {
   "cell_type": "code",
   "execution_count": 42,
   "metadata": {},
   "outputs": [
    {
     "name": "stdout",
     "output_type": "stream",
     "text": [
      "[[293  51]\n",
      " [106 250]]\n"
     ]
    }
   ],
   "source": [
    "print(confusion_matrix(testY, predictions))"
   ]
  },
  {
   "cell_type": "code",
   "execution_count": 43,
   "metadata": {},
   "outputs": [
    {
     "name": "stdout",
     "output_type": "stream",
     "text": [
      "              precision    recall  f1-score   support\n",
      "\n",
      "         bad       0.73      0.85      0.79       344\n",
      "        good       0.83      0.70      0.76       356\n",
      "\n",
      "   micro avg       0.78      0.78      0.78       700\n",
      "   macro avg       0.78      0.78      0.77       700\n",
      "weighted avg       0.78      0.78      0.77       700\n",
      "\n"
     ]
    }
   ],
   "source": [
    "print(classification_report(testY, predictions))"
   ]
  },
  {
   "cell_type": "markdown",
   "metadata": {},
   "source": [
    "## Unigram TFIDF"
   ]
  },
  {
   "cell_type": "code",
   "execution_count": 44,
   "metadata": {},
   "outputs": [],
   "source": [
    "unigramdf =  DF_for_TFIDFVM\n",
    "unigramdf = unigramdf.fillna(0)\n",
    "X, Y = unigramdf.drop(columns = \"<label>\").values, unigramdf[\"<label>\"].values"
   ]
  },
  {
   "cell_type": "code",
   "execution_count": 45,
   "metadata": {},
   "outputs": [],
   "source": [
    "#random forest training with tfidf vectors\n",
    "acc = []\n",
    "kf = KFold(n_splits = 10)\n",
    "for trainIndex, testIndex in kf.split(X):\n",
    "    trainX, testX, trainY, testY = X[trainIndex], X[testIndex], Y[trainIndex], Y[testIndex]\n",
    "    rfc = RandomForestClassifier(n_estimators = 10)\n",
    "    rfc.fit(trainX, trainY)\n",
    "    predictions = rfc.predict(testX)\n",
    "    acc.append(Accuracy(testY, predictions))"
   ]
  },
  {
   "cell_type": "code",
   "execution_count": 46,
   "metadata": {},
   "outputs": [
    {
     "name": "stdout",
     "output_type": "stream",
     "text": [
      "Average accuracy of predictions 0.7554285714285714\n"
     ]
    },
    {
     "data": {
      "image/png": "[encoded data removed]",
      "text/plain": [
       "<Figure size 432x288 with 1 Axes>"
      ]
     },
     "metadata": {
      "needs_background": "light"
     },
     "output_type": "display_data"
    }
   ],
   "source": [
    "print(\"Average accuracy of predictions \" + str(np.mean(acc)))\n",
    "plt.ylabel('accuracy')\n",
    "plt.xlabel('iteration')\n",
    "plt.plot(acc, 'b--')\n",
    "plt.show()"
   ]
  },
  {
   "cell_type": "code",
   "execution_count": 47,
   "metadata": {},
   "outputs": [
    {
     "name": "stdout",
     "output_type": "stream",
     "text": [
      "[[289  55]\n",
      " [ 90 266]]\n"
     ]
    }
   ],
   "source": [
    "print(confusion_matrix(testY, predictions))"
   ]
  },
  {
   "cell_type": "code",
   "execution_count": 48,
   "metadata": {},
   "outputs": [
    {
     "name": "stdout",
     "output_type": "stream",
     "text": [
      "              precision    recall  f1-score   support\n",
      "\n",
      "         bad       0.76      0.84      0.80       344\n",
      "        good       0.83      0.75      0.79       356\n",
      "\n",
      "   micro avg       0.79      0.79      0.79       700\n",
      "   macro avg       0.80      0.79      0.79       700\n",
      "weighted avg       0.80      0.79      0.79       700\n",
      "\n"
     ]
    }
   ],
   "source": [
    "print(classification_report(testY, predictions))"
   ]
  },
  {
   "cell_type": "markdown",
   "metadata": {},
   "source": [
    "## Bigram VM"
   ]
  },
  {
   "cell_type": "code",
   "execution_count": 51,
   "metadata": {},
   "outputs": [],
   "source": [
    "datadf = DF_for_BVM\n",
    "datadf = datadf.fillna(0)\n",
    "X, Y = datadf.drop(columns = \"<label>\").values, datadf[\"<label>\"].values"
   ]
  },
  {
   "cell_type": "code",
   "execution_count": 52,
   "metadata": {},
   "outputs": [
    {
     "name": "stdout",
     "output_type": "stream",
     "text": [
      "Average accuracy of predictions 0.7548571428571429\n"
     ]
    },
    {
     "data": {
      "image/png": "[encoded data removed]",
      "text/plain": [
       "<Figure size 432x288 with 1 Axes>"
      ]
     },
     "metadata": {
      "needs_background": "light"
     },
     "output_type": "display_data"
    },
    {
     "name": "stdout",
     "output_type": "stream",
     "text": [
      "[[258  86]\n",
      " [ 93 263]]\n",
      "              precision    recall  f1-score   support\n",
      "\n",
      "         bad       0.74      0.75      0.74       344\n",
      "        good       0.75      0.74      0.75       356\n",
      "\n",
      "   micro avg       0.74      0.74      0.74       700\n",
      "   macro avg       0.74      0.74      0.74       700\n",
      "weighted avg       0.74      0.74      0.74       700\n",
      "\n"
     ]
    }
   ],
   "source": [
    "#ranforest training with tf-idf vectors\n",
    "acc = []\n",
    "kf = KFold(n_splits = 10)\n",
    "for trainIndex, testIndex in kf.split(X):\n",
    "    trainX, testX, trainY, testY = X[trainIndex], X[testIndex], Y[trainIndex], Y[testIndex]\n",
    "    nb = RandomForestClassifier(n_estimators = 10)\n",
    "    nb.fit(trainX, trainY)\n",
    "    predictions = nb.predict(testX)\n",
    "    acc.append(Accuracy(testY, predictions))\n",
    "print(\"Average accuracy of predictions \" + str(np.mean(acc)))\n",
    "plt.ylabel('accuracy')\n",
    "plt.xlabel('iteration')\n",
    "plt.plot(acc, 'b--')\n",
    "plt.show()\n",
    "print(confusion_matrix(testY, predictions))\n",
    "print(classification_report(testY, predictions))"
   ]
  },
  {
   "cell_type": "markdown",
   "metadata": {},
   "source": [
    "## Bigram TFIDF"
   ]
  },
  {
   "cell_type": "code",
   "execution_count": null,
   "metadata": {},
   "outputs": [],
   "source": [
    "datadf = DF_for_BTFIDFVM\n",
    "datadf = datadf.fillna(0)\n",
    "X, Y = datadf.drop(columns = \"<label>\").values, datadf[\"<label>\"].values"
   ]
  },
  {
   "cell_type": "code",
   "execution_count": 58,
   "metadata": {},
   "outputs": [
    {
     "name": "stdout",
     "output_type": "stream",
     "text": [
      "Average accuracy of predictions 0.7645714285714285\n"
     ]
    },
    {
     "data": {
      "image/png": "[encoded data removed]",
      "text/plain": [
       "<Figure size 432x288 with 1 Axes>"
      ]
     },
     "metadata": {
      "needs_background": "light"
     },
     "output_type": "display_data"
    },
    {
     "name": "stdout",
     "output_type": "stream",
     "text": [
      "[[264  80]\n",
      " [ 90 266]]\n",
      "              precision    recall  f1-score   support\n",
      "\n",
      "         bad       0.75      0.77      0.76       344\n",
      "        good       0.77      0.75      0.76       356\n",
      "\n",
      "   micro avg       0.76      0.76      0.76       700\n",
      "   macro avg       0.76      0.76      0.76       700\n",
      "weighted avg       0.76      0.76      0.76       700\n",
      "\n"
     ]
    }
   ],
   "source": [
    "#logistic training with tf-idf vectors\n",
    "acc = []\n",
    "kf = KFold(n_splits = 10)\n",
    "for trainIndex, testIndex in kf.split(X):\n",
    "    trainX, testX, trainY, testY = X[trainIndex], X[testIndex], Y[trainIndex], Y[testIndex]\n",
    "    nb = RandomForestClassifier(n_estimators = 10)\n",
    "    nb.fit(trainX, trainY)\n",
    "    predictions = nb.predict(testX)\n",
    "    acc.append(Accuracy(testY, predictions))\n",
    "print(\"Average accuracy of predictions \" + str(np.mean(acc)))\n",
    "plt.ylabel('accuracy')\n",
    "plt.xlabel('iteration')\n",
    "plt.plot(acc, 'b--')\n",
    "plt.show()\n",
    "print(confusion_matrix(testY, predictions))\n",
    "print(classification_report(testY, predictions))"
   ]
  },
  {
   "cell_type": "markdown",
   "metadata": {},
   "source": [
    "# Naive Bayes"
   ]
  },
  {
   "cell_type": "markdown",
   "metadata": {},
   "source": [
    "## Unigram"
   ]
  },
  {
   "cell_type": "code",
   "execution_count": null,
   "metadata": {},
   "outputs": [],
   "source": [
    "import pandas as pd\n",
    "from matplotlib import pyplot as plt\n",
    "import sklearn.datasets\n",
    "import numpy as np\n",
    "from sklearn.metrics import accuracy_score as Accuracy\n",
    "from matplotlib import pyplot as plt\n",
    "import sklearn\n",
    "from sklearn.model_selection import train_test_split\n",
    "from sklearn.linear_model import LogisticRegression\n",
    "\n",
    "from sklearn.naive_bayes import MultinomialNB\n",
    "from sklearn.metrics import confusion_matrix, classification_report\n",
    "from sklearn.model_selection import KFold\n",
    "\n",
    "\n",
    "# In[9]:\n",
    "\n",
    "\n",
    "datadf =  DF_to_unigramVM\n",
    "datadf = datadf.fillna(0)\n",
    "X, Y = datadf.drop(columns = \"<label>\").values, datadf[\"<label>\"].values\n",
    "\n",
    "\n",
    "# In[10]:\n",
    "\n",
    "\n",
    "#niave training with count vectors\n",
    "acc = []\n",
    "kf = KFold(n_splits = 10)\n",
    "for trainIndex, testIndex in kf.split(X):\n",
    "    trainX, testX, trainY, testY = X[trainIndex], X[testIndex], Y[trainIndex], Y[testIndex]\n",
    "    nb = MultinomialNB()\n",
    "    nb.fit(trainX, trainY)\n",
    "    predictions = nb.predict(testX)\n",
    "    acc.append(Accuracy(testY, predictions))\n",
    "\n",
    "\n",
    "# In[11]:\n",
    "\n",
    "\n",
    "print(\"Average accuracy of predictions \" + str(np.mean(acc)))\n",
    "plt.ylabel('accuracy')\n",
    "plt.xlabel('iteration')\n",
    "plt.plot(acc, 'b--')\n",
    "plt.show()\n",
    "\n",
    "\n",
    "# In[12]:\n",
    "\n",
    "\n",
    "print(confusion_matrix(testY, predictions))\n",
    "\n",
    "\n",
    "# In[13]:\n",
    "\n",
    "\n",
    "print(classification_report(testY, predictions))"
   ]
  },
  {
   "cell_type": "markdown",
   "metadata": {},
   "source": [
    "## Unigram TFIDF"
   ]
  },
  {
   "cell_type": "code",
   "execution_count": null,
   "metadata": {},
   "outputs": [],
   "source": [
    "unigramdf = DF_for_TFIDFVM\n",
    "unigramdf = unigramdf.fillna(0)\n",
    "X, Y = unigramdf.drop(columns = \"<label>\").values, unigramdf[\"<label>\"].values\n",
    "\n",
    "\n",
    "# In[26]:\n",
    "\n",
    "\n",
    "#niave training with unigram tfIdf vectors\n",
    "acc = []\n",
    "kf = KFold(n_splits = 10)\n",
    "for trainIndex, testIndex in kf.split(X):\n",
    "    trainX, testX, trainY, testY = X[trainIndex], X[testIndex], Y[trainIndex], Y[testIndex]\n",
    "    nb = MultinomialNB()\n",
    "    nb.fit(trainX, trainY)\n",
    "    predictions = nb.predict(testX)\n",
    "    acc.append(Accuracy(testY, predictions))\n",
    "print(\"Average accuracy of predictions \" + str(np.mean(acc)))\n",
    "plt.ylabel('accuracy')\n",
    "plt.xlabel('iteration')\n",
    "plt.plot(acc, 'b--')\n",
    "plt.show()\n",
    "print(confusion_matrix(testY, predictions))\n",
    "print(classification_report(testY, predictions))\n",
    "\n"
   ]
  },
  {
   "cell_type": "markdown",
   "metadata": {},
   "source": [
    "## Bigram VM"
   ]
  },
  {
   "cell_type": "code",
   "execution_count": 53,
   "metadata": {},
   "outputs": [],
   "source": [
    "datadf = DF_for_BVM\n",
    "datadf = datadf.fillna(0)\n",
    "X, Y = datadf.drop(columns = \"<label>\").values, datadf[\"<label>\"].values"
   ]
  },
  {
   "cell_type": "code",
   "execution_count": 54,
   "metadata": {},
   "outputs": [
    {
     "name": "stdout",
     "output_type": "stream",
     "text": [
      "Average accuracy of predictions 0.8735714285714286\n"
     ]
    },
    {
     "data": {
      "image/png": "[encoded data removed]",
      "text/plain": [
       "<Figure size 432x288 with 1 Axes>"
      ]
     },
     "metadata": {
      "needs_background": "light"
     },
     "output_type": "display_data"
    },
    {
     "name": "stdout",
     "output_type": "stream",
     "text": [
      "[[302  42]\n",
      " [ 38 318]]\n",
      "              precision    recall  f1-score   support\n",
      "\n",
      "         bad       0.89      0.88      0.88       344\n",
      "        good       0.88      0.89      0.89       356\n",
      "\n",
      "   micro avg       0.89      0.89      0.89       700\n",
      "   macro avg       0.89      0.89      0.89       700\n",
      "weighted avg       0.89      0.89      0.89       700\n",
      "\n"
     ]
    }
   ],
   "source": [
    "#bayes training with tf-idf vectors\n",
    "from sklearn.naive_bayes import MultinomialNB\n",
    "acc = []\n",
    "kf = KFold(n_splits = 10)\n",
    "for trainIndex, testIndex in kf.split(X):\n",
    "    trainX, testX, trainY, testY = X[trainIndex], X[testIndex], Y[trainIndex], Y[testIndex]\n",
    "    nb = MultinomialNB()\n",
    "    nb.fit(trainX, trainY)\n",
    "    predictions = nb.predict(testX)\n",
    "    acc.append(Accuracy(testY, predictions))\n",
    "print(\"Average accuracy of predictions \" + str(np.mean(acc)))\n",
    "plt.ylabel('accuracy')\n",
    "plt.xlabel('iteration')\n",
    "plt.plot(acc, 'b--')\n",
    "plt.show()\n",
    "print(confusion_matrix(testY, predictions))\n",
    "print(classification_report(testY, predictions))"
   ]
  },
  {
   "cell_type": "markdown",
   "metadata": {},
   "source": [
    "## Bigram TFIDF VM"
   ]
  },
  {
   "cell_type": "code",
   "execution_count": 55,
   "metadata": {},
   "outputs": [],
   "source": [
    "datadf = DF_for_BTFIDFVM\n",
    "datadf = datadf.fillna(0)\n",
    "X, Y = datadf.drop(columns = \"<label>\").values, datadf[\"<label>\"].values"
   ]
  },
  {
   "cell_type": "code",
   "execution_count": 56,
   "metadata": {},
   "outputs": [
    {
     "name": "stdout",
     "output_type": "stream",
     "text": [
      "Average accuracy of predictions 0.8244285714285715\n"
     ]
    },
    {
     "data": {
      "image/png": "[encoded data removed]",
      "text/plain": [
       "<Figure size 432x288 with 1 Axes>"
      ]
     },
     "metadata": {
      "needs_background": "light"
     },
     "output_type": "display_data"
    },
    {
     "name": "stdout",
     "output_type": "stream",
     "text": [
      "[[290  54]\n",
      " [ 68 288]]\n",
      "              precision    recall  f1-score   support\n",
      "\n",
      "         bad       0.81      0.84      0.83       344\n",
      "        good       0.84      0.81      0.83       356\n",
      "\n",
      "   micro avg       0.83      0.83      0.83       700\n",
      "   macro avg       0.83      0.83      0.83       700\n",
      "weighted avg       0.83      0.83      0.83       700\n",
      "\n"
     ]
    }
   ],
   "source": [
    "#bayes training with tf-idf vectors\n",
    "acc = []\n",
    "kf = KFold(n_splits = 10)\n",
    "for trainIndex, testIndex in kf.split(X):\n",
    "    trainX, testX, trainY, testY = X[trainIndex], X[testIndex], Y[trainIndex], Y[testIndex]\n",
    "    nb = MultinomialNB()\n",
    "    nb.fit(trainX, trainY)\n",
    "    predictions = nb.predict(testX)\n",
    "    acc.append(Accuracy(testY, predictions))\n",
    "print(\"Average accuracy of predictions \" + str(np.mean(acc)))\n",
    "plt.ylabel('accuracy')\n",
    "plt.xlabel('iteration')\n",
    "plt.plot(acc, 'b--')\n",
    "plt.show()\n",
    "print(confusion_matrix(testY, predictions))\n",
    "print(classification_report(testY, predictions))"
   ]
  }
 ],
 "metadata": {
  "kernelspec": {
   "display_name": "Python 3",
   "language": "python",
   "name": "python3"
  },
  "language_info": {
   "codemirror_mode": {
    "name": "ipython",
    "version": 3
   },
   "file_extension": ".py",
   "mimetype": "text/x-python",
   "name": "python",
   "nbconvert_exporter": "python",
   "pygments_lexer": "ipython3",
   "version": "3.7.1"
  }
 },
 "nbformat": 4,
 "nbformat_minor": 2
}
