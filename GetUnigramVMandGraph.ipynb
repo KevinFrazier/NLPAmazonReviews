{
 "cells": [
  {
   "cell_type": "code",
   "execution_count": 1,
   "metadata": {},
   "outputs": [],
   "source": [
    "#get the probabilities"
   ]
  },
  {
   "cell_type": "code",
   "execution_count": 2,
   "metadata": {},
   "outputs": [],
   "source": [
    "import pandas as pd\n",
    "import os\n",
    "import re\n",
    "from nltk.stem.porter import *\n",
    "import math"
   ]
  },
  {
   "cell_type": "code",
   "execution_count": 3,
   "metadata": {},
   "outputs": [],
   "source": [
    "data = pd.read_csv(\"Reviews_8000.csv\")\n",
    "numberOfReviews = 6400"
   ]
  },
  {
   "cell_type": "code",
   "execution_count": 4,
   "metadata": {},
   "outputs": [],
   "source": [
    "def getNgrams(text, n):\n",
    "    if n == 1:\n",
    "        return text\n",
    "    \n",
    "    text.append(\"<end>\")\n",
    "    ngramList = []\n",
    "    for i in range(len(text) - (n-1)):\n",
    "        ngram = text[i:i+n]\n",
    "        ngramList.append(ngram)\n",
    "    \n",
    "    return ngramList"
   ]
  },
  {
   "cell_type": "code",
   "execution_count": 5,
   "metadata": {},
   "outputs": [],
   "source": [
    "unigramDict = {}\n",
    "bigramDict = {}\n",
    "stemmer = PorterStemmer()\n",
    "\n",
    "def getCountsinRow(row):\n",
    "    text = row[\"text\"]\n",
    "    parsedText = re.findall(\"(\\w+)\", text)\n",
    "    \n",
    "    for index in range(len(parsedText)):\n",
    "        parsedText[index] = stemmer.stem(parsedText[index])\n",
    "        parsedText[index] = parsedText[index].lower()\n",
    "        \n",
    "    unigram = getNgrams(parsedText, 1)\n",
    "    bigram = getNgrams(parsedText, 2)\n",
    "    ngrams = (unigram,bigram)\n",
    "    for index in range(len(ngrams)):\n",
    "        for eachWord in ngrams[index]:\n",
    "            \n",
    "            if eachWord != \"br\":\n",
    "                if index == 0:\n",
    "                    #unigram\n",
    "\n",
    "                    if eachWord in unigramDict:\n",
    "                        unigramDict[eachWord] +=1\n",
    "                    else:\n",
    "                        unigramDict[eachWord] =1\n",
    "\n",
    "                if index == 1:\n",
    "                    #bigram\n",
    "                        eachWord = tuple(eachWord)\n",
    "                        if eachWord in bigramDict:\n",
    "                            bigramDict[eachWord] +=1\n",
    "                        else:\n",
    "                            bigramDict[eachWord] =1\n",
    "\n",
    "            "
   ]
  },
  {
   "cell_type": "code",
   "execution_count": 6,
   "metadata": {},
   "outputs": [
    {
     "data": {
      "text/plain": [
       "0       None\n",
       "1       None\n",
       "2       None\n",
       "3       None\n",
       "4       None\n",
       "5       None\n",
       "6       None\n",
       "7       None\n",
       "8       None\n",
       "9       None\n",
       "10      None\n",
       "11      None\n",
       "12      None\n",
       "13      None\n",
       "14      None\n",
       "15      None\n",
       "16      None\n",
       "17      None\n",
       "18      None\n",
       "19      None\n",
       "20      None\n",
       "21      None\n",
       "22      None\n",
       "23      None\n",
       "24      None\n",
       "25      None\n",
       "26      None\n",
       "27      None\n",
       "28      None\n",
       "29      None\n",
       "        ... \n",
       "6370    None\n",
       "6371    None\n",
       "6372    None\n",
       "6373    None\n",
       "6374    None\n",
       "6375    None\n",
       "6376    None\n",
       "6377    None\n",
       "6378    None\n",
       "6379    None\n",
       "6380    None\n",
       "6381    None\n",
       "6382    None\n",
       "6383    None\n",
       "6384    None\n",
       "6385    None\n",
       "6386    None\n",
       "6387    None\n",
       "6388    None\n",
       "6389    None\n",
       "6390    None\n",
       "6391    None\n",
       "6392    None\n",
       "6393    None\n",
       "6394    None\n",
       "6395    None\n",
       "6396    None\n",
       "6397    None\n",
       "6398    None\n",
       "6399    None\n",
       "Length: 6400, dtype: object"
      ]
     },
     "execution_count": 6,
     "metadata": {},
     "output_type": "execute_result"
    }
   ],
   "source": [
    "\n",
    "#get the probabilies into unigramsDict and bigramsDict\n",
    "data.apply(getCountsinRow, axis = 1)"
   ]
  },
  {
   "cell_type": "markdown",
   "metadata": {},
   "source": [
    "# UNIGRAM VECTOR MODEL"
   ]
  },
  {
   "cell_type": "code",
   "execution_count": 7,
   "metadata": {},
   "outputs": [
    {
     "data": {
      "text/plain": [
       "0       None\n",
       "1       None\n",
       "2       None\n",
       "3       None\n",
       "4       None\n",
       "5       None\n",
       "6       None\n",
       "7       None\n",
       "8       None\n",
       "9       None\n",
       "10      None\n",
       "11      None\n",
       "12      None\n",
       "13      None\n",
       "14      None\n",
       "15      None\n",
       "16      None\n",
       "17      None\n",
       "18      None\n",
       "19      None\n",
       "20      None\n",
       "21      None\n",
       "22      None\n",
       "23      None\n",
       "24      None\n",
       "25      None\n",
       "26      None\n",
       "27      None\n",
       "28      None\n",
       "29      None\n",
       "        ... \n",
       "6370    None\n",
       "6371    None\n",
       "6372    None\n",
       "6373    None\n",
       "6374    None\n",
       "6375    None\n",
       "6376    None\n",
       "6377    None\n",
       "6378    None\n",
       "6379    None\n",
       "6380    None\n",
       "6381    None\n",
       "6382    None\n",
       "6383    None\n",
       "6384    None\n",
       "6385    None\n",
       "6386    None\n",
       "6387    None\n",
       "6388    None\n",
       "6389    None\n",
       "6390    None\n",
       "6391    None\n",
       "6392    None\n",
       "6393    None\n",
       "6394    None\n",
       "6395    None\n",
       "6396    None\n",
       "6397    None\n",
       "6398    None\n",
       "6399    None\n",
       "Length: 6400, dtype: object"
      ]
     },
     "execution_count": 7,
     "metadata": {},
     "output_type": "execute_result"
    }
   ],
   "source": [
    "#get the vector model in data\n",
    "unigramVM = []\n",
    "def getUnigramReviewVectors(row):\n",
    "    \n",
    "    #we have data,unigrams,bigrams\n",
    "    rowVector = {}\n",
    "    text = row[\"text\"]\n",
    "    score = row[\"score\"]\n",
    "    parsedText = re.findall(\"(\\w+)\", text)\n",
    "    for index in range(len(parsedText)):\n",
    "        parsedText[index] = stemmer.stem(parsedText[index])\n",
    "        parsedText[index] = parsedText[index].lower()\n",
    "        if parsedText[index] != \"br\":\n",
    "            if parsedText[index] in rowVector:\n",
    "                rowVector[parsedText[index]] +=1\n",
    "            else:\n",
    "                rowVector[parsedText[index]] = 1\n",
    "\n",
    "    if score >= 4:\n",
    "        rowVector[\"<label>\"] = \"good\"\n",
    "    elif score < 3:\n",
    "        rowVector[\"<label>\"] = \"bad\"\n",
    "        \n",
    "    unigramVM.append(rowVector)\n",
    "    \n",
    "\n",
    "data.apply(getUnigramReviewVectors, axis = 1)\n",
    "    \n",
    "    \n",
    "    "
   ]
  },
  {
   "cell_type": "code",
   "execution_count": 8,
   "metadata": {},
   "outputs": [],
   "source": [
    "DF_to_unigramVM = pd.DataFrame(unigramVM)"
   ]
  },
  {
   "cell_type": "markdown",
   "metadata": {},
   "source": [
    "# GET TFIDF UNIGRAM MODEL"
   ]
  },
  {
   "cell_type": "code",
   "execution_count": 9,
   "metadata": {},
   "outputs": [],
   "source": [
    "#make inverted index\n",
    "invertedIndex = {}\n",
    "'''\n",
    "invertedIndex\n",
    "the => {index : 1}\n",
    "'''\n",
    "\n",
    "def makeInvertedIndex(row):\n",
    "    #get the bigrams\n",
    "    #for each bigram -> add a count to the inverted index\n",
    "    #do not double count\n",
    "    \n",
    "    #get bigrams\n",
    "    text = row[\"text\"]\n",
    "    parsedText = re.findall(\"(\\w+)\", text)\n",
    "    \n",
    "    for index in range(len(parsedText)):\n",
    "        \n",
    "        parsedText[index] = stemmer.stem(parsedText[index])\n",
    "        parsedText[index] = parsedText[index].lower()\n",
    "        eachWord = parsedText[index]\n",
    "    \n",
    "        if eachWord not in invertedIndex:\n",
    "            invertedIndex[eachWord] = [1, {}]\n",
    "\n",
    "        if row.name not in invertedIndex[eachWord]:\n",
    "            invertedIndex[eachWord][0] += 1\n",
    "            invertedIndex[eachWord][1][row.name] = 1"
   ]
  },
  {
   "cell_type": "code",
   "execution_count": 10,
   "metadata": {},
   "outputs": [
    {
     "data": {
      "text/plain": [
       "0       None\n",
       "1       None\n",
       "2       None\n",
       "3       None\n",
       "4       None\n",
       "5       None\n",
       "6       None\n",
       "7       None\n",
       "8       None\n",
       "9       None\n",
       "10      None\n",
       "11      None\n",
       "12      None\n",
       "13      None\n",
       "14      None\n",
       "15      None\n",
       "16      None\n",
       "17      None\n",
       "18      None\n",
       "19      None\n",
       "20      None\n",
       "21      None\n",
       "22      None\n",
       "23      None\n",
       "24      None\n",
       "25      None\n",
       "26      None\n",
       "27      None\n",
       "28      None\n",
       "29      None\n",
       "        ... \n",
       "6370    None\n",
       "6371    None\n",
       "6372    None\n",
       "6373    None\n",
       "6374    None\n",
       "6375    None\n",
       "6376    None\n",
       "6377    None\n",
       "6378    None\n",
       "6379    None\n",
       "6380    None\n",
       "6381    None\n",
       "6382    None\n",
       "6383    None\n",
       "6384    None\n",
       "6385    None\n",
       "6386    None\n",
       "6387    None\n",
       "6388    None\n",
       "6389    None\n",
       "6390    None\n",
       "6391    None\n",
       "6392    None\n",
       "6393    None\n",
       "6394    None\n",
       "6395    None\n",
       "6396    None\n",
       "6397    None\n",
       "6398    None\n",
       "6399    None\n",
       "Length: 6400, dtype: object"
      ]
     },
     "execution_count": 10,
     "metadata": {},
     "output_type": "execute_result"
    }
   ],
   "source": [
    "data.apply(makeInvertedIndex, axis = 1)"
   ]
  },
  {
   "cell_type": "code",
   "execution_count": 11,
   "metadata": {},
   "outputs": [],
   "source": [
    "TFIDFVM = []\n",
    "def getTFIDFReviewVectors(row):\n",
    "    \n",
    "    #we have data,unigrams,bigrams\n",
    "    rowVector = {}\n",
    "    text = row[\"text\"]\n",
    "    score = row[\"score\"]\n",
    "    parsedText = re.findall(\"(\\w+)\", text)\n",
    "    \n",
    "    for index in range(len(parsedText)):\n",
    "        parsedText[index] = stemmer.stem(parsedText[index])\n",
    "        parsedText[index] = parsedText[index].lower()\n",
    "        \n",
    "        if parsedText[index] != \"br\":\n",
    "            if parsedText[index] in rowVector:\n",
    "                rowVector[parsedText[index]] +=1\n",
    "            else:\n",
    "                rowVector[parsedText[index]] = 1\n",
    "\n",
    "    #get individual counts\n",
    "    for eachWord in rowVector:\n",
    "        \n",
    "        TF = rowVector[eachWord]/unigramDict[eachWord]\n",
    "        \n",
    "        term = len(invertedIndex[eachWord][1])\n",
    "        \n",
    "        \n",
    "        if term == 0:\n",
    "            term = 1\n",
    "            \n",
    "        IDF = math.log2(numberOfReviews/term)\n",
    "            \n",
    "        if IDF < 0:\n",
    "            print(eachWord)\n",
    "            \n",
    "        rowVector[eachWord] = TF*IDF\n",
    "            \n",
    "        \n",
    "    if score >= 4:\n",
    "        rowVector[\"<label>\"] = \"good\"\n",
    "    elif score < 3:\n",
    "        rowVector[\"<label>\"] = \"bad\"\n",
    "        \n",
    "    TFIDFVM.append(rowVector)\n",
    "    \n",
    "\n"
   ]
  },
  {
   "cell_type": "code",
   "execution_count": 12,
   "metadata": {},
   "outputs": [
    {
     "data": {
      "text/plain": [
       "0       None\n",
       "1       None\n",
       "2       None\n",
       "3       None\n",
       "4       None\n",
       "5       None\n",
       "6       None\n",
       "7       None\n",
       "8       None\n",
       "9       None\n",
       "10      None\n",
       "11      None\n",
       "12      None\n",
       "13      None\n",
       "14      None\n",
       "15      None\n",
       "16      None\n",
       "17      None\n",
       "18      None\n",
       "19      None\n",
       "20      None\n",
       "21      None\n",
       "22      None\n",
       "23      None\n",
       "24      None\n",
       "25      None\n",
       "26      None\n",
       "27      None\n",
       "28      None\n",
       "29      None\n",
       "        ... \n",
       "6370    None\n",
       "6371    None\n",
       "6372    None\n",
       "6373    None\n",
       "6374    None\n",
       "6375    None\n",
       "6376    None\n",
       "6377    None\n",
       "6378    None\n",
       "6379    None\n",
       "6380    None\n",
       "6381    None\n",
       "6382    None\n",
       "6383    None\n",
       "6384    None\n",
       "6385    None\n",
       "6386    None\n",
       "6387    None\n",
       "6388    None\n",
       "6389    None\n",
       "6390    None\n",
       "6391    None\n",
       "6392    None\n",
       "6393    None\n",
       "6394    None\n",
       "6395    None\n",
       "6396    None\n",
       "6397    None\n",
       "6398    None\n",
       "6399    None\n",
       "Length: 6400, dtype: object"
      ]
     },
     "execution_count": 12,
     "metadata": {},
     "output_type": "execute_result"
    }
   ],
   "source": [
    "\n",
    "data.apply(getTFIDFReviewVectors, axis = 1)"
   ]
  },
  {
   "cell_type": "code",
   "execution_count": 13,
   "metadata": {},
   "outputs": [],
   "source": [
    "DF_for_TFIDFVM = pd.DataFrame(TFIDFVM)"
   ]
  },
  {
   "cell_type": "markdown",
   "metadata": {},
   "source": [
    "# Logistic Regression"
   ]
  },
  {
   "cell_type": "markdown",
   "metadata": {},
   "source": [
    "## Unigram"
   ]
  },
  {
   "cell_type": "code",
   "execution_count": 14,
   "metadata": {},
   "outputs": [],
   "source": [
    "import pandas as pd\n",
    "from matplotlib import pyplot as plt\n",
    "import sklearn.datasets\n",
    "import numpy as np\n",
    "from sklearn.metrics import accuracy_score as Accuracy\n",
    "from matplotlib import pyplot as plt\n",
    "import sklearn\n",
    "from sklearn.model_selection import train_test_split\n",
    "from sklearn.linear_model import LogisticRegression\n",
    "\n",
    "from sklearn.naive_bayes import MultinomialNB\n",
    "from sklearn.metrics import confusion_matrix, classification_report\n",
    "from sklearn.model_selection import KFold"
   ]
  },
  {
   "cell_type": "code",
   "execution_count": 15,
   "metadata": {},
   "outputs": [],
   "source": [
    "datadf = DF_to_unigramVM\n",
    "datadf = datadf.fillna(0)\n",
    "X, Y = datadf.drop(columns = \"<label>\").values, datadf[\"<label>\"].values"
   ]
  },
  {
   "cell_type": "code",
   "execution_count": 16,
   "metadata": {},
   "outputs": [],
   "source": [
    "#niave training with count vectors\n",
    "acc = []\n",
    "kf = KFold(n_splits = 10)\n",
    "for trainIndex, testIndex in kf.split(X):\n",
    "    trainX, testX, trainY, testY = X[trainIndex], X[testIndex], Y[trainIndex], Y[testIndex]\n",
    "    nb = LogisticRegression(solver='liblinear')\n",
    "    nb.fit(trainX, trainY)\n",
    "    predictions = nb.predict(testX)\n",
    "    acc.append(Accuracy(testY, predictions))"
   ]
  },
  {
   "cell_type": "code",
   "execution_count": 17,
   "metadata": {
    "scrolled": true
   },
   "outputs": [
    {
     "name": "stdout",
     "output_type": "stream",
     "text": [
      "Average accuracy of predictions 0.84609375\n"
     ]
    },
    {
     "data": {
      "image/png": "[encoded data removed]",
      "text/plain": [
       "<Figure size 432x288 with 1 Axes>"
      ]
     },
     "metadata": {
      "needs_background": "light"
     },
     "output_type": "display_data"
    }
   ],
   "source": [
    "print(\"Average accuracy of predictions \" + str(np.mean(acc)))\n",
    "plt.ylabel('accuracy')\n",
    "plt.xlabel('iteration')\n",
    "plt.plot(acc, 'b--')\n",
    "plt.show()"
   ]
  },
  {
   "cell_type": "code",
   "execution_count": 18,
   "metadata": {},
   "outputs": [
    {
     "data": {
      "text/plain": [
       "array([280,  63,  36, 261])"
      ]
     },
     "execution_count": 18,
     "metadata": {},
     "output_type": "execute_result"
    }
   ],
   "source": [
    "confusion_matrix(testY, predictions).ravel()\n"
   ]
  },
  {
   "cell_type": "code",
   "execution_count": 19,
   "metadata": {},
   "outputs": [
    {
     "name": "stdout",
     "output_type": "stream",
     "text": [
      "              precision    recall  f1-score   support\n",
      "\n",
      "         bad       0.89      0.82      0.85       343\n",
      "        good       0.81      0.88      0.84       297\n",
      "\n",
      "   micro avg       0.85      0.85      0.85       640\n",
      "   macro avg       0.85      0.85      0.85       640\n",
      "weighted avg       0.85      0.85      0.85       640\n",
      "\n"
     ]
    }
   ],
   "source": [
    "print(classification_report(testY, predictions))"
   ]
  },
  {
   "cell_type": "markdown",
   "metadata": {},
   "source": [
    "## UnigramTFIDF"
   ]
  },
  {
   "cell_type": "code",
   "execution_count": 20,
   "metadata": {},
   "outputs": [],
   "source": [
    "datadf = DF_for_TFIDFVM\n",
    "datadf = datadf.fillna(0)\n",
    "X, Y = datadf.drop(columns = \"<label>\").values, datadf[\"<label>\"].values"
   ]
  },
  {
   "cell_type": "code",
   "execution_count": 21,
   "metadata": {},
   "outputs": [],
   "source": [
    "#logistic training with tf-idf vectors\n",
    "acc = []\n",
    "kf = KFold(n_splits = 10)\n",
    "for trainIndex, testIndex in kf.split(X):\n",
    "    trainX, testX, trainY, testY = X[trainIndex], X[testIndex], Y[trainIndex], Y[testIndex]\n",
    "    nb = LogisticRegression(solver='liblinear')\n",
    "    nb.fit(trainX, trainY)\n",
    "    predictions = nb.predict(testX)\n",
    "    acc.append(Accuracy(testY, predictions))"
   ]
  },
  {
   "cell_type": "code",
   "execution_count": 22,
   "metadata": {},
   "outputs": [
    {
     "name": "stdout",
     "output_type": "stream",
     "text": [
      "Average accuracy of predictions 0.6767187499999999\n"
     ]
    },
    {
     "data": {
      "image/png": "[encoded data removed]",
      "text/plain": [
       "<Figure size 432x288 with 1 Axes>"
      ]
     },
     "metadata": {
      "needs_background": "light"
     },
     "output_type": "display_data"
    }
   ],
   "source": [
    "print(\"Average accuracy of predictions \" + str(np.mean(acc)))\n",
    "plt.ylabel('accuracy')\n",
    "plt.xlabel('iteration')\n",
    "plt.plot(acc, 'b--')\n",
    "plt.show()"
   ]
  },
  {
   "cell_type": "code",
   "execution_count": 23,
   "metadata": {},
   "outputs": [
    {
     "data": {
      "text/plain": [
       "array([[193, 150],\n",
       "       [ 68, 229]])"
      ]
     },
     "execution_count": 23,
     "metadata": {},
     "output_type": "execute_result"
    }
   ],
   "source": [
    "confusion_matrix(testY, predictions)"
   ]
  },
  {
   "cell_type": "code",
   "execution_count": 24,
   "metadata": {},
   "outputs": [
    {
     "name": "stdout",
     "output_type": "stream",
     "text": [
      "              precision    recall  f1-score   support\n",
      "\n",
      "         bad       0.74      0.56      0.64       343\n",
      "        good       0.60      0.77      0.68       297\n",
      "\n",
      "   micro avg       0.66      0.66      0.66       640\n",
      "   macro avg       0.67      0.67      0.66       640\n",
      "weighted avg       0.68      0.66      0.66       640\n",
      "\n"
     ]
    }
   ],
   "source": [
    "print(classification_report(testY, predictions))"
   ]
  },
  {
   "cell_type": "markdown",
   "metadata": {},
   "source": [
    "# Random Forest"
   ]
  },
  {
   "cell_type": "markdown",
   "metadata": {},
   "source": [
    "## Unigram"
   ]
  },
  {
   "cell_type": "code",
   "execution_count": 25,
   "metadata": {},
   "outputs": [],
   "source": [
    "datadf = DF_to_unigramVM\n",
    "datadf = datadf.fillna(0)\n",
    "X, Y = datadf.drop(columns = \"<label>\").values, datadf[\"<label>\"].values"
   ]
  },
  {
   "cell_type": "code",
   "execution_count": 26,
   "metadata": {},
   "outputs": [
    {
     "ename": "NameError",
     "evalue": "name 'RandomForestClassifier' is not defined",
     "output_type": "error",
     "traceback": [
      "\u001b[0;31m---------------------------------------------------------------------------\u001b[0m",
      "\u001b[0;31mNameError\u001b[0m                                 Traceback (most recent call last)",
      "\u001b[0;32m<ipython-input-26-5e38c3f9cccc>\u001b[0m in \u001b[0;36m<module>\u001b[0;34m\u001b[0m\n\u001b[1;32m      4\u001b[0m \u001b[0;32mfor\u001b[0m \u001b[0mtrainIndex\u001b[0m\u001b[0;34m,\u001b[0m \u001b[0mtestIndex\u001b[0m \u001b[0;32min\u001b[0m \u001b[0mkf\u001b[0m\u001b[0;34m.\u001b[0m\u001b[0msplit\u001b[0m\u001b[0;34m(\u001b[0m\u001b[0mX\u001b[0m\u001b[0;34m)\u001b[0m\u001b[0;34m:\u001b[0m\u001b[0;34m\u001b[0m\u001b[0;34m\u001b[0m\u001b[0m\n\u001b[1;32m      5\u001b[0m     \u001b[0mtrainX\u001b[0m\u001b[0;34m,\u001b[0m \u001b[0mtestX\u001b[0m\u001b[0;34m,\u001b[0m \u001b[0mtrainY\u001b[0m\u001b[0;34m,\u001b[0m \u001b[0mtestY\u001b[0m \u001b[0;34m=\u001b[0m \u001b[0mX\u001b[0m\u001b[0;34m[\u001b[0m\u001b[0mtrainIndex\u001b[0m\u001b[0;34m]\u001b[0m\u001b[0;34m,\u001b[0m \u001b[0mX\u001b[0m\u001b[0;34m[\u001b[0m\u001b[0mtestIndex\u001b[0m\u001b[0;34m]\u001b[0m\u001b[0;34m,\u001b[0m \u001b[0mY\u001b[0m\u001b[0;34m[\u001b[0m\u001b[0mtrainIndex\u001b[0m\u001b[0;34m]\u001b[0m\u001b[0;34m,\u001b[0m \u001b[0mY\u001b[0m\u001b[0;34m[\u001b[0m\u001b[0mtestIndex\u001b[0m\u001b[0;34m]\u001b[0m\u001b[0;34m\u001b[0m\u001b[0;34m\u001b[0m\u001b[0m\n\u001b[0;32m----> 6\u001b[0;31m     \u001b[0mrfc\u001b[0m \u001b[0;34m=\u001b[0m \u001b[0mRandomForestClassifier\u001b[0m\u001b[0;34m(\u001b[0m\u001b[0mn_estimators\u001b[0m \u001b[0;34m=\u001b[0m \u001b[0;36m10\u001b[0m\u001b[0;34m)\u001b[0m\u001b[0;34m\u001b[0m\u001b[0;34m\u001b[0m\u001b[0m\n\u001b[0m\u001b[1;32m      7\u001b[0m     \u001b[0mrfc\u001b[0m\u001b[0;34m.\u001b[0m\u001b[0mfit\u001b[0m\u001b[0;34m(\u001b[0m\u001b[0mtrainX\u001b[0m\u001b[0;34m,\u001b[0m \u001b[0mtrainY\u001b[0m\u001b[0;34m)\u001b[0m\u001b[0;34m\u001b[0m\u001b[0;34m\u001b[0m\u001b[0m\n\u001b[1;32m      8\u001b[0m     \u001b[0mpredictions\u001b[0m \u001b[0;34m=\u001b[0m \u001b[0mrfc\u001b[0m\u001b[0;34m.\u001b[0m\u001b[0mpredict\u001b[0m\u001b[0;34m(\u001b[0m\u001b[0mtestX\u001b[0m\u001b[0;34m)\u001b[0m\u001b[0;34m\u001b[0m\u001b[0;34m\u001b[0m\u001b[0m\n",
      "\u001b[0;31mNameError\u001b[0m: name 'RandomForestClassifier' is not defined"
     ]
    }
   ],
   "source": [
    "#random forest training with count vectors\n",
    "acc = []\n",
    "kf = KFold(n_splits = 10)\n",
    "for trainIndex, testIndex in kf.split(X):\n",
    "    trainX, testX, trainY, testY = X[trainIndex], X[testIndex], Y[trainIndex], Y[testIndex]\n",
    "    rfc = RandomForestClassifier(n_estimators = 10)\n",
    "    rfc.fit(trainX, trainY)\n",
    "    predictions = rfc.predict(testX)\n",
    "    acc.append(Accuracy(testY, predictions))"
   ]
  },
  {
   "cell_type": "code",
   "execution_count": null,
   "metadata": {},
   "outputs": [],
   "source": [
    "print(\"Average accuracy of predictions \" + str(np.mean(acc)))\n",
    "plt.ylabel('accuracy')\n",
    "plt.xlabel('iteration')\n",
    "plt.plot(acc, 'b--')\n",
    "plt.show()"
   ]
  },
  {
   "cell_type": "code",
   "execution_count": null,
   "metadata": {},
   "outputs": [],
   "source": [
    "print(confusion_matrix(testY, predictions))"
   ]
  },
  {
   "cell_type": "code",
   "execution_count": null,
   "metadata": {},
   "outputs": [],
   "source": [
    "print(classification_report(testY, predictions))"
   ]
  },
  {
   "cell_type": "markdown",
   "metadata": {},
   "source": [
    "## Unigram TFIDF"
   ]
  },
  {
   "cell_type": "code",
   "execution_count": null,
   "metadata": {},
   "outputs": [],
   "source": [
    "unigramdf =  DF_for_TFIDFVM\n",
    "unigramdf = unigramdf.fillna(0)\n",
    "X, Y = unigramdf.drop(columns = \"<label>\").values, unigramdf[\"<label>\"].values"
   ]
  },
  {
   "cell_type": "code",
   "execution_count": null,
   "metadata": {},
   "outputs": [],
   "source": [
    "#random forest training with tfidf vectors\n",
    "acc = []\n",
    "kf = KFold(n_splits = 10)\n",
    "for trainIndex, testIndex in kf.split(X):\n",
    "    trainX, testX, trainY, testY = X[trainIndex], X[testIndex], Y[trainIndex], Y[testIndex]\n",
    "    rfc = RandomForestClassifier(n_estimators = 10)\n",
    "    rfc.fit(trainX, trainY)\n",
    "    predictions = rfc.predict(testX)\n",
    "    acc.append(Accuracy(testY, predictions))"
   ]
  },
  {
   "cell_type": "code",
   "execution_count": null,
   "metadata": {},
   "outputs": [],
   "source": [
    "print(\"Average accuracy of predictions \" + str(np.mean(acc)))\n",
    "plt.ylabel('accuracy')\n",
    "plt.xlabel('iteration')\n",
    "plt.plot(acc, 'b--')\n",
    "plt.show()"
   ]
  },
  {
   "cell_type": "code",
   "execution_count": null,
   "metadata": {},
   "outputs": [],
   "source": [
    "print(confusion_matrix(testY, predictions))"
   ]
  },
  {
   "cell_type": "code",
   "execution_count": null,
   "metadata": {},
   "outputs": [],
   "source": [
    "print(classification_report(testY, predictions))"
   ]
  },
  {
   "cell_type": "markdown",
   "metadata": {},
   "source": [
    "# Naive Bayes"
   ]
  },
  {
   "cell_type": "markdown",
   "metadata": {},
   "source": [
    "## Unigram"
   ]
  },
  {
   "cell_type": "code",
   "execution_count": null,
   "metadata": {},
   "outputs": [],
   "source": [
    "import pandas as pd\n",
    "from matplotlib import pyplot as plt\n",
    "import sklearn.datasets\n",
    "import numpy as np\n",
    "from sklearn.metrics import accuracy_score as Accuracy\n",
    "from matplotlib import pyplot as plt\n",
    "import sklearn\n",
    "from sklearn.model_selection import train_test_split\n",
    "from sklearn.linear_model import LogisticRegression\n",
    "\n",
    "from sklearn.naive_bayes import MultinomialNB\n",
    "from sklearn.metrics import confusion_matrix, classification_report\n",
    "from sklearn.model_selection import KFold\n",
    "\n",
    "\n",
    "# In[9]:\n",
    "\n",
    "\n",
    "datadf =  DF_to_unigramVM\n",
    "datadf = datadf.fillna(0)\n",
    "X, Y = datadf.drop(columns = \"<label>\").values, datadf[\"<label>\"].values\n",
    "\n",
    "\n",
    "# In[10]:\n",
    "\n",
    "\n",
    "#niave training with count vectors\n",
    "acc = []\n",
    "kf = KFold(n_splits = 10)\n",
    "for trainIndex, testIndex in kf.split(X):\n",
    "    trainX, testX, trainY, testY = X[trainIndex], X[testIndex], Y[trainIndex], Y[testIndex]\n",
    "    nb = MultinomialNB()\n",
    "    nb.fit(trainX, trainY)\n",
    "    predictions = nb.predict(testX)\n",
    "    acc.append(Accuracy(testY, predictions))\n",
    "\n",
    "\n",
    "# In[11]:\n",
    "\n",
    "\n",
    "print(\"Average accuracy of predictions \" + str(np.mean(acc)))\n",
    "plt.ylabel('accuracy')\n",
    "plt.xlabel('iteration')\n",
    "plt.plot(acc, 'b--')\n",
    "plt.show()\n",
    "\n",
    "\n",
    "# In[12]:\n",
    "\n",
    "\n",
    "print(confusion_matrix(testY, predictions))\n",
    "\n",
    "\n",
    "# In[13]:\n",
    "\n",
    "\n",
    "print(classification_report(testY, predictions))"
   ]
  },
  {
   "cell_type": "markdown",
   "metadata": {},
   "source": [
    "## Unigram TFIDF"
   ]
  },
  {
   "cell_type": "code",
   "execution_count": null,
   "metadata": {},
   "outputs": [],
   "source": [
    "\n",
    "unigramdf = DF_for_TFIDFVM\n",
    "unigramdf = unigramdf.fillna(0)\n",
    "X, Y = unigramdf.drop(columns = \"<label>\").values, unigramdf[\"<label>\"].values\n",
    "\n",
    "\n",
    "# In[26]:\n",
    "\n",
    "\n",
    "#niave training with unigram tfIdf vectors\n",
    "acc = []\n",
    "kf = KFold(n_splits = 10)\n",
    "for trainIndex, testIndex in kf.split(X):\n",
    "    trainX, testX, trainY, testY = X[trainIndex], X[testIndex], Y[trainIndex], Y[testIndex]\n",
    "    nb = MultinomialNB()\n",
    "    nb.fit(trainX, trainY)\n",
    "    predictions = nb.predict(testX)\n",
    "    acc.append(Accuracy(testY, predictions))\n",
    "\n",
    "\n",
    "# In[27]:\n",
    "\n",
    "\n",
    "print(\"Average accuracy of predictions \" + str(np.mean(acc)))\n",
    "plt.ylabel('accuracy')\n",
    "plt.xlabel('iteration')\n",
    "plt.plot(acc, 'b--')\n",
    "plt.show()\n",
    "\n",
    "\n",
    "# In[17]:\n",
    "\n",
    "\n",
    "print(confusion_matrix(testY, predictions))\n",
    "\n",
    "\n",
    "# In[18]:\n",
    "\n",
    "\n",
    "print(classification_report(testY, predictions))\n",
    "\n"
   ]
  }
 ],
 "metadata": {
  "kernelspec": {
   "display_name": "Python 3",
   "language": "python",
   "name": "python3"
  },
  "language_info": {
   "codemirror_mode": {
    "name": "ipython",
    "version": 3
   },
   "file_extension": ".py",
   "mimetype": "text/x-python",
   "name": "python",
   "nbconvert_exporter": "python",
   "pygments_lexer": "ipython3",
   "version": "3.6.7"
  }
 },
 "nbformat": 4,
 "nbformat_minor": 2
}
