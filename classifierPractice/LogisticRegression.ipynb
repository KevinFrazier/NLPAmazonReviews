{
 "cells": [
  {
   "cell_type": "code",
   "execution_count": 44,
   "metadata": {},
   "outputs": [],
   "source": [
    "import pandas as pd\n",
    "from matplotlib import pyplot as plt\n",
    "import sklearn.datasets\n",
    "import numpy as np\n",
    "from sklearn.metrics import accuracy_score as Accuracy\n",
    "from matplotlib import pyplot as plt\n",
    "import sklearn\n",
    "from sklearn.model_selection import train_test_split\n",
    "from sklearn.linear_model import LogisticRegression\n",
    "\n",
    "from sklearn.naive_bayes import MultinomialNB\n",
    "from sklearn.metrics import confusion_matrix, classification_report\n",
    "from sklearn.model_selection import KFold"
   ]
  },
  {
   "cell_type": "code",
   "execution_count": 45,
   "metadata": {},
   "outputs": [],
   "source": [
    "datadf = pd.read_csv(\"UnigramVectorModel.csv\")\n",
    "datadf = datadf.fillna(0)\n",
    "X, Y = datadf.drop(columns = \"<label>\").values, datadf[\"<label>\"].values"
   ]
  },
  {
   "cell_type": "code",
   "execution_count": 46,
   "metadata": {},
   "outputs": [],
   "source": [
    "#niave training with count vectors\n",
    "acc = []\n",
    "kf = KFold(n_splits = 10)\n",
    "for trainIndex, testIndex in kf.split(X):\n",
    "    trainX, testX, trainY, testY = X[trainIndex], X[testIndex], Y[trainIndex], Y[testIndex]\n",
    "    nb = LogisticRegression(solver='liblinear')\n",
    "    nb.fit(trainX, trainY)\n",
    "    predictions = nb.predict(testX)\n",
    "    acc.append(Accuracy(testY, predictions))"
   ]
  },
  {
   "cell_type": "code",
   "execution_count": 47,
   "metadata": {},
   "outputs": [
    {
     "name": "stdout",
     "output_type": "stream",
     "text": [
      "Average accuracy of predictions 0.77925\n"
     ]
    },
    {
     "data": {
      "image/png": "[encoded data removed]",
      "text/plain": [
       "<Figure size 432x288 with 1 Axes>"
      ]
     },
     "metadata": {
      "needs_background": "light"
     },
     "output_type": "display_data"
    }
   ],
   "source": [
    "print(\"Average accuracy of predictions \" + str(np.mean(acc)))\n",
    "plt.ylabel('accuracy')\n",
    "plt.xlabel('iteration')\n",
    "plt.plot(acc, 'b--')\n",
    "plt.show()"
   ]
  },
  {
   "cell_type": "code",
   "execution_count": 48,
   "metadata": {},
   "outputs": [
    {
     "name": "stdout",
     "output_type": "stream",
     "text": [
      "(tn,fp,fn,tp)\n",
      "[646 154   0   0]\n"
     ]
    }
   ],
   "source": [
    "results = (tn,fp,fn,tp) = confusion_matrix(testY, predictions).ravel()\n",
    "print(\"(tn,fp,fn,tp)\")\n",
    "print(results)\n"
   ]
  },
  {
   "cell_type": "code",
   "execution_count": 41,
   "metadata": {},
   "outputs": [
    {
     "name": "stdout",
     "output_type": "stream",
     "text": [
      "              precision    recall  f1-score   support\n",
      "\n",
      "         bad       1.00      0.81      0.89       800\n",
      "        good       0.00      0.00      0.00         0\n",
      "\n",
      "   micro avg       0.81      0.81      0.81       800\n",
      "   macro avg       0.50      0.40      0.45       800\n",
      "weighted avg       1.00      0.81      0.89       800\n",
      "\n"
     ]
    }
   ],
   "source": [
    "print(classification_report(testY, predictions))"
   ]
  },
  {
   "cell_type": "code",
   "execution_count": 17,
   "metadata": {},
   "outputs": [],
   "source": [
    "datadf = pd.read_csv(\"UniTFIDFModel.csv\")\n",
    "datadf = datadf.fillna(0)\n",
    "X, Y = datadf.drop(columns = \"<label>\").values, datadf[\"<label>\"].values"
   ]
  },
  {
   "cell_type": "code",
   "execution_count": 18,
   "metadata": {},
   "outputs": [],
   "source": [
    "#logistic training with tf-idf vectors\n",
    "acc = []\n",
    "kf = KFold(n_splits = 10)\n",
    "for trainIndex, testIndex in kf.split(X):\n",
    "    trainX, testX, trainY, testY = X[trainIndex], X[testIndex], Y[trainIndex], Y[testIndex]\n",
    "    nb = LogisticRegression(solver='liblinear')\n",
    "    nb.fit(trainX, trainY)\n",
    "    predictions = nb.predict(testX)\n",
    "    acc.append(Accuracy(testY, predictions))"
   ]
  },
  {
   "cell_type": "code",
   "execution_count": 19,
   "metadata": {},
   "outputs": [
    {
     "name": "stdout",
     "output_type": "stream",
     "text": [
      "Average accuracy of predictions 0.7804\n"
     ]
    },
    {
     "data": {
      "image/png": "[encoded data removed]",
      "text/plain": [
       "<Figure size 432x288 with 1 Axes>"
      ]
     },
     "metadata": {
      "needs_background": "light"
     },
     "output_type": "display_data"
    }
   ],
   "source": [
    "print(\"Average accuracy of predictions \" + str(np.mean(acc)))\n",
    "plt.ylabel('accuracy')\n",
    "plt.xlabel('iteration')\n",
    "plt.plot(acc, 'b--')\n",
    "plt.show()"
   ]
  },
  {
   "cell_type": "code",
   "execution_count": 20,
   "metadata": {},
   "outputs": [
    {
     "name": "stdout",
     "output_type": "stream",
     "text": [
      "[[ 10  48]\n",
      " [ 15 427]]\n"
     ]
    }
   ],
   "source": [
    "print(confusion_matrix(testY, predictions))"
   ]
  },
  {
   "cell_type": "code",
   "execution_count": 21,
   "metadata": {},
   "outputs": [
    {
     "name": "stdout",
     "output_type": "stream",
     "text": [
      "              precision    recall  f1-score   support\n",
      "\n",
      "         bad       0.40      0.17      0.24        58\n",
      "        good       0.90      0.97      0.93       442\n",
      "\n",
      "   micro avg       0.87      0.87      0.87       500\n",
      "   macro avg       0.65      0.57      0.59       500\n",
      "weighted avg       0.84      0.87      0.85       500\n",
      "\n"
     ]
    }
   ],
   "source": [
    "print(classification_report(testY, predictions))"
   ]
  },
  {
   "cell_type": "code",
   "execution_count": 5,
   "metadata": {},
   "outputs": [],
   "source": [
    "datadf = pd.read_csv(\"BigramModel.csv\", low_memory = False)\n",
    "datadf = datadf.fillna(0)\n",
    "X, Y = datadf.drop(columns = \"<label>\").values, datadf[\"<label>\"].values"
   ]
  },
  {
   "cell_type": "code",
   "execution_count": 6,
   "metadata": {},
   "outputs": [],
   "source": [
    "#logistic training with bigram vectors\n",
    "acc = []\n",
    "kf = KFold(n_splits = 10)\n",
    "for trainIndex, testIndex in kf.split(X):\n",
    "    trainX, testX, trainY, testY = X[trainIndex], X[testIndex], Y[trainIndex], Y[testIndex]\n",
    "    nb = LogisticRegression(solver='liblinear')\n",
    "    nb.fit(trainX, trainY)\n",
    "    predictions = nb.predict(testX)\n",
    "    acc.append(Accuracy(testY, predictions))"
   ]
  },
  {
   "cell_type": "code",
   "execution_count": 7,
   "metadata": {},
   "outputs": [
    {
     "name": "stdout",
     "output_type": "stream",
     "text": [
      "Average accuracy of predictions 0.8210000000000001\n"
     ]
    },
    {
     "data": {
      "image/png": "[encoded data removed]",
      "text/plain": [
       "<Figure size 432x288 with 1 Axes>"
      ]
     },
     "metadata": {
      "needs_background": "light"
     },
     "output_type": "display_data"
    }
   ],
   "source": [
    "print(\"Average accuracy of predictions \" + str(np.mean(acc)))\n",
    "plt.ylabel('accuracy')\n",
    "plt.xlabel('iteration')\n",
    "plt.plot(acc, 'b--')\n",
    "plt.show()"
   ]
  },
  {
   "cell_type": "code",
   "execution_count": 8,
   "metadata": {},
   "outputs": [
    {
     "name": "stdout",
     "output_type": "stream",
     "text": [
      "[[ 20  46]\n",
      " [  6 128]]\n"
     ]
    }
   ],
   "source": [
    "print(confusion_matrix(testY, predictions))"
   ]
  },
  {
   "cell_type": "code",
   "execution_count": 9,
   "metadata": {},
   "outputs": [
    {
     "name": "stdout",
     "output_type": "stream",
     "text": [
      "              precision    recall  f1-score   support\n",
      "\n",
      "         bad       0.77      0.30      0.43        66\n",
      "        good       0.74      0.96      0.83       134\n",
      "\n",
      "   micro avg       0.74      0.74      0.74       200\n",
      "   macro avg       0.75      0.63      0.63       200\n",
      "weighted avg       0.75      0.74      0.70       200\n",
      "\n"
     ]
    }
   ],
   "source": [
    "print(classification_report(testY, predictions))"
   ]
  },
  {
   "cell_type": "code",
   "execution_count": 10,
   "metadata": {},
   "outputs": [],
   "source": [
    "datadf = pd.read_csv(\"BigramTFIDF_Vector_Model.csv\", low_memory = False)\n",
    "datadf = datadf.fillna(0)\n",
    "X, Y = datadf.drop(columns = \"<label>\").values, datadf[\"<label>\"].values"
   ]
  },
  {
   "cell_type": "code",
   "execution_count": 11,
   "metadata": {},
   "outputs": [],
   "source": [
    "#logistic training with bigram tfidf vectors\n",
    "acc = []\n",
    "kf = KFold(n_splits = 10)\n",
    "for trainIndex, testIndex in kf.split(X):\n",
    "    trainX, testX, trainY, testY = X[trainIndex], X[testIndex], Y[trainIndex], Y[testIndex]\n",
    "    nb = LogisticRegression(solver='liblinear')\n",
    "    nb.fit(trainX, trainY)\n",
    "    predictions = nb.predict(testX)\n",
    "    acc.append(Accuracy(testY, predictions))"
   ]
  },
  {
   "cell_type": "code",
   "execution_count": 12,
   "metadata": {},
   "outputs": [
    {
     "name": "stdout",
     "output_type": "stream",
     "text": [
      "Average accuracy of predictions 0.7935000000000001\n"
     ]
    },
    {
     "data": {
      "image/png": "[encoded data removed]",
      "text/plain": [
       "<Figure size 432x288 with 1 Axes>"
      ]
     },
     "metadata": {
      "needs_background": "light"
     },
     "output_type": "display_data"
    }
   ],
   "source": [
    "print(\"Average accuracy of predictions \" + str(np.mean(acc)))\n",
    "plt.ylabel('accuracy')\n",
    "plt.xlabel('iteration')\n",
    "plt.plot(acc, 'b--')\n",
    "plt.show()"
   ]
  },
  {
   "cell_type": "code",
   "execution_count": 13,
   "metadata": {},
   "outputs": [
    {
     "name": "stdout",
     "output_type": "stream",
     "text": [
      "[[ 29  37]\n",
      " [ 14 120]]\n"
     ]
    }
   ],
   "source": [
    "print(confusion_matrix(testY, predictions))"
   ]
  },
  {
   "cell_type": "code",
   "execution_count": 14,
   "metadata": {},
   "outputs": [
    {
     "name": "stdout",
     "output_type": "stream",
     "text": [
      "              precision    recall  f1-score   support\n",
      "\n",
      "         bad       0.67      0.44      0.53        66\n",
      "        good       0.76      0.90      0.82       134\n",
      "\n",
      "   micro avg       0.74      0.74      0.74       200\n",
      "   macro avg       0.72      0.67      0.68       200\n",
      "weighted avg       0.73      0.74      0.73       200\n",
      "\n"
     ]
    }
   ],
   "source": [
    "print(classification_report(testY, predictions))"
   ]
  },
  {
   "cell_type": "code",
   "execution_count": null,
   "metadata": {},
   "outputs": [],
   "source": []
  }
 ],
 "metadata": {
  "kernelspec": {
   "display_name": "Python 3",
   "language": "python",
   "name": "python3"
  },
  "language_info": {
   "codemirror_mode": {
    "name": "ipython",
    "version": 3
   },
   "file_extension": ".py",
   "mimetype": "text/x-python",
   "name": "python",
   "nbconvert_exporter": "python",
   "pygments_lexer": "ipython3",
   "version": "3.6.7"
  }
 },
 "nbformat": 4,
 "nbformat_minor": 2
}
