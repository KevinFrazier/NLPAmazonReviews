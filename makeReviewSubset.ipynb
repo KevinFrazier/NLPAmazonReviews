{
 "cells": [
  {
   "cell_type": "code",
   "execution_count": 45,
   "metadata": {},
   "outputs": [],
   "source": [
    "import pandas as pd\n",
    "\n",
    "'''\n",
    "#with resepect to the data\n",
    "numberofReviews = 5000\n",
    "proportionDict = {\n",
    "    5: numberofReviews*.639,\n",
    "    4: int(numberofReviews*.142),\n",
    "    3: numberofReviews*.075,\n",
    "    2: numberofReviews*.052,\n",
    "    1: numberofReviews*.092\n",
    "}\n",
    "'''\n",
    "\n",
    "numberofReviews = 8000\n",
    "proportionDict = {\n",
    "    \n",
    "    5: numberofReviews*.2,\n",
    "    4: numberofReviews*.2,\n",
    "    3: numberofReviews*.2,\n",
    "    2: numberofReviews*.2,\n",
    "    1: numberofReviews*.2,\n",
    "    \n",
    "}"
   ]
  },
  {
   "cell_type": "code",
   "execution_count": 46,
   "metadata": {},
   "outputs": [
    {
     "name": "stdout",
     "output_type": "stream",
     "text": [
      "{5: 1600.0, 4: 1600.0, 3: 1600.0, 2: 1600.0, 1: 1600.0}\n"
     ]
    }
   ],
   "source": [
    "print(proportionDict)"
   ]
  },
  {
   "cell_type": "code",
   "execution_count": 47,
   "metadata": {},
   "outputs": [],
   "source": [
    "data = pd.read_csv(\"Reviews.csv\")\n"
   ]
  },
  {
   "cell_type": "code",
   "execution_count": 48,
   "metadata": {},
   "outputs": [
    {
     "data": {
      "text/plain": [
       "0         None\n",
       "1         None\n",
       "2         None\n",
       "3         None\n",
       "4         None\n",
       "5         None\n",
       "6         None\n",
       "7         None\n",
       "8         None\n",
       "9         None\n",
       "10        None\n",
       "11        None\n",
       "12        None\n",
       "13        None\n",
       "14        None\n",
       "15        None\n",
       "16        None\n",
       "17        None\n",
       "18        None\n",
       "19        None\n",
       "20        None\n",
       "21        None\n",
       "22        None\n",
       "23        None\n",
       "24        None\n",
       "25        None\n",
       "26        None\n",
       "27        None\n",
       "28        None\n",
       "29        None\n",
       "          ... \n",
       "568424    None\n",
       "568425    None\n",
       "568426    None\n",
       "568427    None\n",
       "568428    None\n",
       "568429    None\n",
       "568430    None\n",
       "568431    None\n",
       "568432    None\n",
       "568433    None\n",
       "568434    None\n",
       "568435    None\n",
       "568436    None\n",
       "568437    None\n",
       "568438    None\n",
       "568439    None\n",
       "568440    None\n",
       "568441    None\n",
       "568442    None\n",
       "568443    None\n",
       "568444    None\n",
       "568445    None\n",
       "568446    None\n",
       "568447    None\n",
       "568448    None\n",
       "568449    None\n",
       "568450    None\n",
       "568451    None\n",
       "568452    None\n",
       "568453    None\n",
       "Length: 568454, dtype: object"
      ]
     },
     "execution_count": 48,
     "metadata": {},
     "output_type": "execute_result"
    }
   ],
   "source": [
    "data_subset = []\n",
    "def getReview(row):\n",
    "    \n",
    "    rowVector = {}\n",
    "    score = row[\"Score\"]\n",
    "    text = row[\"Text\"]\n",
    "    \n",
    "    if proportionDict[score] > 0:\n",
    "        proportionDict[score] -=1\n",
    "        rowVector[\"score\"] = score\n",
    "        rowVector[\"text\"] = text\n",
    "        data_subset.append(rowVector)\n",
    "\n",
    "data.apply(getReview, axis = 1)"
   ]
  },
  {
   "cell_type": "code",
   "execution_count": 49,
   "metadata": {},
   "outputs": [],
   "source": [
    "subset_data = pd.DataFrame(data_subset)"
   ]
  },
  {
   "cell_type": "code",
   "execution_count": 51,
   "metadata": {},
   "outputs": [
    {
     "name": "stdout",
     "output_type": "stream",
     "text": [
      "      score                                               text\n",
      "0         5  I have bought several of the Vitality canned d...\n",
      "1         1  Product arrived labeled as Jumbo Salted Peanut...\n",
      "2         4  This is a confection that has been around a fe...\n",
      "3         2  If you are looking for the secret ingredient i...\n",
      "4         5  Great taffy at a great price.  There was a wid...\n",
      "5         4  I got a wild hair for taffy and ordered this f...\n",
      "6         5  This saltwater taffy had great flavors and was...\n",
      "7         5  This taffy is so good.  It is very soft and ch...\n",
      "8         5  Right now I'm mostly just sprouting this so my...\n",
      "9         5  This is a very healthy dog food. Good for thei...\n",
      "10        5  I don't know if it's the cactus or the tequila...\n",
      "11        5  One of my boys needed to lose some weight and ...\n",
      "12        1  My cats have been happily eating Felidae Plati...\n",
      "13        4  good flavor! these came securely packed... the...\n",
      "14        5  The Strawberry Twizzlers are my guilty pleasur...\n",
      "15        5  My daughter loves twizzlers and this shipment ...\n",
      "16        2  I love eating them and they are good for watch...\n",
      "17        5  I am very satisfied with my Twizzler purchase....\n",
      "18        5  Twizzlers, Strawberry my childhood favorite ca...\n",
      "19        5  Candy was delivered very fast and was purchase...\n",
      "20        5  My husband is a Twizzlers addict.  We've bough...\n",
      "21        5  I bought these for my husband who is currently...\n",
      "22        5  I can remember buying this candy as a kid and ...\n",
      "23        5  I love this candy.  After weight watchers I ha...\n",
      "24        5  I have lived out of the US for over 7 yrs now,...\n",
      "25        5  Product received is as advertised.<br /><br />...\n",
      "26        1  The candy is just red , No flavor . Just  plan...\n",
      "27        4  I was so glad Amazon carried these batteries. ...\n",
      "28        5  I got this for my Mum who is not diabetic but ...\n",
      "29        5  I don't know if it's the cactus or the tequila...\n",
      "...     ...                                                ...\n",
      "7970      2  I have had good luck with Fee Brothers for oth...\n",
      "7971      2  Ordered this to try some old school cocktails ...\n",
      "7972      2  the chocolate goji berries taste better then t...\n",
      "7973      2  Given the reputation of the pepper, this sauce...\n",
      "7974      2  I bought this product thinking it was a gold s...\n",
      "7975      2  I wasnt real thrilled with these, some were fi...\n",
      "7976      2  I expected any canned stuffed grape leaves to ...\n",
      "7977      2  The stuffed grape vine leaves were great. The ...\n",
      "7978      2  I thought this would be a easy way to get a qu...\n",
      "7979      2  I have drank Bigelow band peppermint tea and l...\n",
      "7980      2  Wee bits is a great size kibble for small dogs...\n",
      "7981      2  I am one of those people who like sweet lemon ...\n",
      "7982      2  Based on the reviews I read here I was looking...\n",
      "7983      2  I'd have given these four stars for flavor IF ...\n",
      "7984      2  I first got introduced to StarKist Tuna Fillet...\n",
      "7985      2  I got two of these for gifts at Christmas for ...\n",
      "7986      2  I've used others that are better.  If you're n...\n",
      "7987      2  The crackers were all broken up and in crumbs....\n",
      "7988      2  Perhaps Arame seaweed is always bland and meal...\n",
      "7989      2  I was not thrilled by the taste of this coffee...\n",
      "7990      2  I agree the jerky is way too salty and it has ...\n",
      "7991      2  i bought this item to get miso soup with less ...\n",
      "7992      2  This _was_ my favorite chamomile tea, but they...\n",
      "7993      2  Seeing the word \"tangy\" on the front of the bo...\n",
      "7994      2  UPDATED REVIEW (10/7/2012):  I am disappointed...\n",
      "7995      2  All five packages were too small, too old, and...\n",
      "7996      2  I drink these drinks after a work out and they...\n",
      "7997      2  I bought this honey substitute and a bottle of...\n",
      "7998      2  I ordered Hershey's Milk Chocolate Bars and re...\n",
      "7999      2  This coffee is equivalent to Pilon Gourmet Cof...\n",
      "\n",
      "[8000 rows x 2 columns]\n"
     ]
    }
   ],
   "source": [
    "print(subset_data)"
   ]
  },
  {
   "cell_type": "code",
   "execution_count": 50,
   "metadata": {},
   "outputs": [],
   "source": [
    "subset_data.to_csv(\"Reviews_\"+ str(numberofReviews) + \".csv\")"
   ]
  },
  {
   "cell_type": "code",
   "execution_count": null,
   "metadata": {},
   "outputs": [],
   "source": []
  }
 ],
 "metadata": {
  "kernelspec": {
   "display_name": "Python 3",
   "language": "python",
   "name": "python3"
  },
  "language_info": {
   "codemirror_mode": {
    "name": "ipython",
    "version": 3
   },
   "file_extension": ".py",
   "mimetype": "text/x-python",
   "name": "python",
   "nbconvert_exporter": "python",
   "pygments_lexer": "ipython3",
   "version": "3.6.7"
  }
 },
 "nbformat": 4,
 "nbformat_minor": 2
}
