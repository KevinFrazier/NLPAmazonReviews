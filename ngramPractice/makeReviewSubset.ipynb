{
 "cells": [
  {
   "cell_type": "code",
   "execution_count": 55,
   "metadata": {},
   "outputs": [],
   "source": [
    "import pandas as pd\n",
    "\n",
    "'''\n",
    "#with resepect to the data\n",
    "numberofReviews = 5000\n",
    "proportionDict = {\n",
    "    5:numberofReviews*.639,\n",
    "    4: int(numberofReviews*.142),\n",
    "    3: numberofReviews*.075,\n",
    "    2: numberofReviews*.052,\n",
    "    1: numberofReviews*.092\n",
    "}\n",
    "'''\n",
    "\n",
    "numberofReviews = 8000\n",
    "proportionDict = {\n",
    "    \n",
    "    5: numberofReviews*.2,\n",
    "    4: numberofReviews*.2,\n",
    "    3: 0,\n",
    "    2: numberofReviews*.2,\n",
    "    1: numberofReviews*.2,\n",
    "    \n",
    "}"
   ]
  },
  {
   "cell_type": "code",
   "execution_count": 56,
   "metadata": {},
   "outputs": [
    {
     "name": "stdout",
     "output_type": "stream",
     "text": [
      "{5: 1600.0, 4: 1600.0, 3: 0, 2: 1600.0, 1: 1600.0}\n"
     ]
    }
   ],
   "source": [
    "print(proportionDict)"
   ]
  },
  {
   "cell_type": "code",
   "execution_count": 57,
   "metadata": {},
   "outputs": [],
   "source": [
    "data = pd.read_csv(\"Reviews.csv\")\n"
   ]
  },
  {
   "cell_type": "code",
   "execution_count": 58,
   "metadata": {},
   "outputs": [
    {
     "data": {
      "text/plain": [
       "0         None\n",
       "1         None\n",
       "2         None\n",
       "3         None\n",
       "4         None\n",
       "5         None\n",
       "6         None\n",
       "7         None\n",
       "8         None\n",
       "9         None\n",
       "10        None\n",
       "11        None\n",
       "12        None\n",
       "13        None\n",
       "14        None\n",
       "15        None\n",
       "16        None\n",
       "17        None\n",
       "18        None\n",
       "19        None\n",
       "20        None\n",
       "21        None\n",
       "22        None\n",
       "23        None\n",
       "24        None\n",
       "25        None\n",
       "26        None\n",
       "27        None\n",
       "28        None\n",
       "29        None\n",
       "          ... \n",
       "568424    None\n",
       "568425    None\n",
       "568426    None\n",
       "568427    None\n",
       "568428    None\n",
       "568429    None\n",
       "568430    None\n",
       "568431    None\n",
       "568432    None\n",
       "568433    None\n",
       "568434    None\n",
       "568435    None\n",
       "568436    None\n",
       "568437    None\n",
       "568438    None\n",
       "568439    None\n",
       "568440    None\n",
       "568441    None\n",
       "568442    None\n",
       "568443    None\n",
       "568444    None\n",
       "568445    None\n",
       "568446    None\n",
       "568447    None\n",
       "568448    None\n",
       "568449    None\n",
       "568450    None\n",
       "568451    None\n",
       "568452    None\n",
       "568453    None\n",
       "Length: 568454, dtype: object"
      ]
     },
     "execution_count": 58,
     "metadata": {},
     "output_type": "execute_result"
    }
   ],
   "source": [
    "data_subset = []\n",
    "def getReview(row):\n",
    "    \n",
    "    rowVector = {}\n",
    "    score = row[\"Score\"]\n",
    "    text = row[\"Text\"]\n",
    "    \n",
    "    if proportionDict[score] > 0:\n",
    "        proportionDict[score] -=1\n",
    "        rowVector[\"score\"] = score\n",
    "        rowVector[\"text\"] = text\n",
    "        data_subset.append(rowVector)\n",
    "\n",
    "data.apply(getReview, axis = 1)"
   ]
  },
  {
   "cell_type": "code",
   "execution_count": 59,
   "metadata": {},
   "outputs": [],
   "source": [
    "subset_data = pd.DataFrame(data_subset)"
   ]
  },
  {
   "cell_type": "code",
   "execution_count": 60,
   "metadata": {},
   "outputs": [],
   "source": [
    "subset_data = subset_data.sample(frac=1).reset_index(drop=True)"
   ]
  },
  {
   "cell_type": "code",
   "execution_count": 61,
   "metadata": {},
   "outputs": [
    {
     "name": "stdout",
     "output_type": "stream",
     "text": [
      "      score                                               text\n",
      "0         4  We have been looking for pesto that tastes as ...\n",
      "1         4  After buying these for quite sometime, I was q...\n",
      "2         5  If you want to find a good flavor substitute f...\n",
      "3         5  I'm from Detroit, and I was raised on Vernor's...\n",
      "4         4  My husband likes these a lot. They are a bit d...\n",
      "5         2  I was very disappointed by the product.  They ...\n",
      "6         5  Long ago I discovered that San Marzano tomatoe...\n",
      "7         2  They have some textured powder stuff on them t...\n",
      "8         2  I have older mats that have a ribbed surface a...\n",
      "9         5  This is a delicious tea!<br /><br />I'm just n...\n",
      "10        4  These jelly beans are great for a party activi...\n",
      "11        1  I was disappointed in the unpleasant flavor an...\n",
      "12        1  Could not get the bags to \"pop\" any edible por...\n",
      "13        1  The bread has a good taste but does not rise p...\n",
      "14        5  I have been ordering the sea salt chips for ab...\n",
      "15        4  One of the weaker flavored coffees but a yummy...\n",
      "16        4  Progresso's chicken gumbo soup doesn't taste a...\n",
      "17        4  When I'm working, I always carry my own lunch....\n",
      "18        2  When Habanero is in powder form it doesn't tas...\n",
      "19        5  <span class=\"tiny\"> Length:: 1:00 Mins<br /><b...\n",
      "20        4  No sugar or anything added to the product. I h...\n",
      "21        2  These taste really awful. I've tried plenty of...\n",
      "22        2  I am a a vegetarian, and this is my least favo...\n",
      "23        4  I was surprised how much raspberry flavor the ...\n",
      "24        1  I've read the reviews and I agree that Yuban i...\n",
      "25        2  I bought these cookies after reading all the r...\n",
      "26        2  These pancakes are gross... they are pale and ...\n",
      "27        5  The main ingredients in this dog food are so m...\n",
      "28        2  These are very tasty, but way too sweet & suga...\n",
      "29        5  I was really impressed with this.  There are m...\n",
      "...     ...                                                ...\n",
      "6370      1  PLEASE research, on the web! This product near...\n",
      "6371      2  I bought this product thinking it was a gold s...\n",
      "6372      1  Two of the three plants were dying and are now...\n",
      "6373      2  Somehow my previous review got deleted. I live...\n",
      "6374      5  Some reviewers must have a short memory. I've ...\n",
      "6375      4  My kids have eaten oatmeal everyday since the ...\n",
      "6376      4  This was a good buy. The variety is still clos...\n",
      "6377      4  I was not expecting much from this tea. After ...\n",
      "6378      5  What a nice alternative to an apple pie. Love ...\n",
      "6379      5  These are the most fantastic chips I've ever h...\n",
      "6380      1  Someone at work cooked these and the smell is ...\n",
      "6381      1  As coffee in general, this Wolfgang variety wa...\n",
      "6382      1  After I enptied the can, I noticed it was blac...\n",
      "6383      1  Instead of a black graduation cap, a top hat w...\n",
      "6384      1  Made in China, does anything else need to be s...\n",
      "6385      5  No more heavy grocery bags for me -- I've just...\n",
      "6386      2  In the past I have bought my syrup from World ...\n",
      "6387      5  I subscribed to these - one case every three m...\n",
      "6388      1  I have been told by my veternarian that Glucos...\n",
      "6389      4  This popcorn leaves very few old maids. It's f...\n",
      "6390      1  Just about 9 out of 10 of these would not work...\n",
      "6391      2  It is okay.  I would not go out of my way to b...\n",
      "6392      5  I love Popchips. They may take some time getti...\n",
      "6393      4  Wellness Pure Delights are very tasty, moist a...\n",
      "6394      2  I have bought several Revolution flavored teas...\n",
      "6395      5  I love San Marzano tomatoes and Cento's are gr...\n",
      "6396      2  I've been using this cereal for the past 4-5 m...\n",
      "6397      1  Three of us tried it; one of us was barely abl...\n",
      "6398      4  Well worth the money. I did the calculations o...\n",
      "6399      4  This soup is pretty good, not great! I put som...\n",
      "\n",
      "[6400 rows x 2 columns]\n"
     ]
    }
   ],
   "source": [
    "print(subset_data)"
   ]
  },
  {
   "cell_type": "code",
   "execution_count": 62,
   "metadata": {},
   "outputs": [],
   "source": [
    "subset_data.to_csv(\"Reviews_\"+ str(numberofReviews) + \".csv\")"
   ]
  },
  {
   "cell_type": "code",
   "execution_count": null,
   "metadata": {},
   "outputs": [],
   "source": []
  }
 ],
 "metadata": {
  "kernelspec": {
   "display_name": "Python 3",
   "language": "python",
   "name": "python3"
  },
  "language_info": {
   "codemirror_mode": {
    "name": "ipython",
    "version": 3
   },
   "file_extension": ".py",
   "mimetype": "text/x-python",
   "name": "python",
   "nbconvert_exporter": "python",
   "pygments_lexer": "ipython3",
   "version": "3.6.7"
  }
 },
 "nbformat": 4,
 "nbformat_minor": 2
}
